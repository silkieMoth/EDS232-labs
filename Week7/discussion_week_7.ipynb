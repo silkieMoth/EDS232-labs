{
 "cells": [
  {
   "cell_type": "markdown",
   "id": "809d7d8c-87cc-43a4-be28-8c8fa5523001",
   "metadata": {},
   "source": [
    "# Introduction\n",
    "\n",
    "In this week’s discussion section, we will use a dataset containing tweets related to different disasters. For each observation (tweet), there is an outcome variable that classifies the disasters talked about in the tweet as real (1), or not (0). Rather than having multiple predictors as our X, we will have one predictor - the tweet. However, each individual word can be thought of as their own predictor, each contributing to predicting our outcome variable."
   ]
  },
  {
   "cell_type": "markdown",
   "id": "87d96d5f-868e-492d-8cc3-ec88955f3127",
   "metadata": {},
   "source": [
    "# Data\n",
    "\n",
    "The dataset this week is a commonly used dataset for NLP (Natural Language Processing). The dataset can be found here. Disasters.csv includes a text variable, which contains the tweet as a string. Our target variable, target, is a binary outcome variable with 1 representing the disaster discussed as real, and 0 representing the disaster discussed as not real.\n",
    "\n",
    "# Excercise\n",
    "Load in libraries and data"
   ]
  },
  {
   "cell_type": "code",
   "execution_count": 3,
   "id": "ab687fd9-c431-44a5-8776-4227fa9ff833",
   "metadata": {
    "tags": []
   },
   "outputs": [],
   "source": [
    "import pandas as pd\n",
    "import numpy as np\n",
    "from sklearn.model_selection import train_test_split\n",
    "from sklearn.feature_extraction.text import TfidfVectorizer, CountVectorizer\n",
    "from sklearn.linear_model import LogisticRegression\n",
    "from sklearn.metrics import classification_report, f1_score, accuracy_score, confusion_matrix\n",
    "from sklearn.metrics import roc_curve, auc, roc_auc_score\n",
    "import re\n",
    "import string\n",
    "import matplotlib.pyplot as plt\n",
    "import seaborn as sns\n",
    "\n",
    "# Read in the data\n",
    "disaster = pd.read_csv(\"/Users/jpcohen/MEDS/eds_232/EDS232-labs/data/disaster.csv - disaster.csv\")\n",
    "\n",
    "#\"/Users/jpcohen/MEDS/eds_232/EDS232-labs/data/disaster.csv - disaster.csv\""
   ]
  },
  {
   "cell_type": "markdown",
   "id": "0b60acba-5b75-420a-8cfe-37fdd6849cc5",
   "metadata": {},
   "source": [
    "## Clean text data\n",
    "\n",
    "Work with a partner and annotate what each line in the code chunk below is doing."
   ]
  },
  {
   "cell_type": "code",
   "execution_count": 4,
   "id": "c74064cd-0116-4ade-940a-ce9becbdd0bd",
   "metadata": {
    "tags": []
   },
   "outputs": [],
   "source": [
    "# Cleaning text data\n",
    "def preprocess(text):\n",
    "    text = text.lower() # make all lowercase\n",
    "    text=  text.strip()  # strips leading/trailing whitespace\n",
    "    text=  re.sub(r'<.*?>','', text) # remove html syntax\n",
    "    text = re.sub(r'[^\\w\\s]','',text) # removes punctuation\n",
    "    text = re.sub(r'\\[[0-9]*\\]',' ',text) # removes references\n",
    "    text = re.sub(r'\\d',' ',text)  # removes digits\n",
    "    text = re.sub(r'\\s+', ' ', text) # collapse multiple spaces into a single space\n",
    "    return text\n",
    "\n",
    "# r stands for \"raw string\"\n",
    "# tells it do not use \"\\\" as an escape operator"
   ]
  },
  {
   "cell_type": "code",
   "execution_count": 12,
   "id": "b428b8e7-30d8-4c70-887e-9f022b2f1656",
   "metadata": {},
   "outputs": [
    {
     "data": {
      "text/html": [
       "<div>\n",
       "<style scoped>\n",
       "    .dataframe tbody tr th:only-of-type {\n",
       "        vertical-align: middle;\n",
       "    }\n",
       "\n",
       "    .dataframe tbody tr th {\n",
       "        vertical-align: top;\n",
       "    }\n",
       "\n",
       "    .dataframe thead th {\n",
       "        text-align: right;\n",
       "    }\n",
       "</style>\n",
       "<table border=\"1\" class=\"dataframe\">\n",
       "  <thead>\n",
       "    <tr style=\"text-align: right;\">\n",
       "      <th></th>\n",
       "      <th>id</th>\n",
       "      <th>keyword</th>\n",
       "      <th>location</th>\n",
       "      <th>text</th>\n",
       "      <th>target</th>\n",
       "      <th>clean_text</th>\n",
       "    </tr>\n",
       "  </thead>\n",
       "  <tbody>\n",
       "    <tr>\n",
       "      <th>0</th>\n",
       "      <td>1</td>\n",
       "      <td>NaN</td>\n",
       "      <td>NaN</td>\n",
       "      <td>Our Deeds are the Reason of this #earthquake M...</td>\n",
       "      <td>1</td>\n",
       "      <td>our deeds are the reason of this earthquake ma...</td>\n",
       "    </tr>\n",
       "    <tr>\n",
       "      <th>1</th>\n",
       "      <td>4</td>\n",
       "      <td>NaN</td>\n",
       "      <td>NaN</td>\n",
       "      <td>Forest fire near La Ronge Sask. Canada</td>\n",
       "      <td>1</td>\n",
       "      <td>forest fire near la ronge sask canada</td>\n",
       "    </tr>\n",
       "    <tr>\n",
       "      <th>2</th>\n",
       "      <td>5</td>\n",
       "      <td>NaN</td>\n",
       "      <td>NaN</td>\n",
       "      <td>All residents asked to 'shelter in place' are ...</td>\n",
       "      <td>1</td>\n",
       "      <td>all residents asked to shelter in place are be...</td>\n",
       "    </tr>\n",
       "    <tr>\n",
       "      <th>3</th>\n",
       "      <td>6</td>\n",
       "      <td>NaN</td>\n",
       "      <td>NaN</td>\n",
       "      <td>13,000 people receive #wildfires evacuation or...</td>\n",
       "      <td>1</td>\n",
       "      <td>people receive wildfires evacuation orders in...</td>\n",
       "    </tr>\n",
       "    <tr>\n",
       "      <th>4</th>\n",
       "      <td>7</td>\n",
       "      <td>NaN</td>\n",
       "      <td>NaN</td>\n",
       "      <td>Just got sent this photo from Ruby #Alaska as ...</td>\n",
       "      <td>1</td>\n",
       "      <td>just got sent this photo from ruby alaska as s...</td>\n",
       "    </tr>\n",
       "  </tbody>\n",
       "</table>\n",
       "</div>"
      ],
      "text/plain": [
       "   id keyword location                                               text  \\\n",
       "0   1     NaN      NaN  Our Deeds are the Reason of this #earthquake M...   \n",
       "1   4     NaN      NaN             Forest fire near La Ronge Sask. Canada   \n",
       "2   5     NaN      NaN  All residents asked to 'shelter in place' are ...   \n",
       "3   6     NaN      NaN  13,000 people receive #wildfires evacuation or...   \n",
       "4   7     NaN      NaN  Just got sent this photo from Ruby #Alaska as ...   \n",
       "\n",
       "   target                                         clean_text  \n",
       "0       1  our deeds are the reason of this earthquake ma...  \n",
       "1       1              forest fire near la ronge sask canada  \n",
       "2       1  all residents asked to shelter in place are be...  \n",
       "3       1   people receive wildfires evacuation orders in...  \n",
       "4       1  just got sent this photo from ruby alaska as s...  "
      ]
     },
     "execution_count": 12,
     "metadata": {},
     "output_type": "execute_result"
    }
   ],
   "source": [
    "disaster['clean_text'] = disaster['text'].apply(preprocess)\n",
    "disaster.head()"
   ]
  },
  {
   "cell_type": "markdown",
   "id": "3628d231-8650-49d0-9c8a-cfbb191f8228",
   "metadata": {},
   "source": [
    "### What about stop words?"
   ]
  },
  {
   "cell_type": "code",
   "execution_count": 14,
   "id": "556d4c85-6c19-4a04-9ca4-3cb0f49aaaa3",
   "metadata": {
    "tags": []
   },
   "outputs": [
    {
     "name": "stdout",
     "output_type": "stream",
     "text": [
      "Remaining words\n",
      "['5th' 'awesome' 'capstone' 'crush' 'march' 'presentation' 'team']\n"
     ]
    }
   ],
   "source": [
    "# proof that Tfidf vectorizor excludes stopwords\n",
    "stop_words_ex = [\"On March 5th, I will crush my capstone presentation with my awesome team!\"]\n",
    "\n",
    "vectorizer_english = TfidfVectorizer(stop_words = \"english\")\n",
    "vectorizer_english.fit_transform(stop_words_ex)\n",
    "\n",
    "print(\"Remaining words\")\n",
    "print(vectorizer_english.get_feature_names_out())"
   ]
  },
  {
   "cell_type": "code",
   "execution_count": 19,
   "id": "05499c60-cb31-4bff-8c3f-53eb5edffb06",
   "metadata": {
    "tags": []
   },
   "outputs": [],
   "source": [
    "# Split into test and train\n",
    "X_train, X_test, y_train, y_test = train_test_split(disaster[\"clean_text\"], disaster['target'], test_size = 0.3, random_state = 42)"
   ]
  },
  {
   "cell_type": "code",
   "execution_count": 23,
   "id": "8bbdec2b-26ed-4117-91e3-97099f16afd2",
   "metadata": {
    "tags": []
   },
   "outputs": [],
   "source": [
    "# Vectorize wprds\n",
    "tfidf_vectorizer = TfidfVectorizer(stop_words = \"english\")\n",
    "X_train_tfidf = tfidf_vectorizer.fit_transform(X_train)\n",
    "X_test_tfidf = tfidf_vectorizer.transform(X_test)"
   ]
  },
  {
   "cell_type": "code",
   "execution_count": 26,
   "id": "984bd389-0795-46b1-84e6-45ecfe4d9862",
   "metadata": {
    "tags": []
   },
   "outputs": [],
   "source": [
    "# Initialize a logistic regression model and fit to vectorized training data\n",
    "lr_model = LogisticRegression(random_state = 42)\n",
    "lr_model.fit(X_train_tfidf, y_train)\n",
    "y_pred = lr_model.predict(X_test_tfidf)"
   ]
  },
  {
   "cell_type": "markdown",
   "id": "8402ebc9-b4c4-4c58-9c69-ef4c9a46f13b",
   "metadata": {},
   "source": [
    "### Logistic Regression Results"
   ]
  },
  {
   "cell_type": "code",
   "execution_count": 27,
   "id": "269773ec-81f8-4d56-aa19-5d2c6a4cce67",
   "metadata": {
    "tags": []
   },
   "outputs": [
    {
     "name": "stdout",
     "output_type": "stream",
     "text": [
      "Accuracy: 0.803415061295972\n"
     ]
    },
    {
     "data": {
      "image/png": "[encoded data removed]",
      "text/plain": [
       "<Figure size 800x600 with 2 Axes>"
      ]
     },
     "metadata": {},
     "output_type": "display_data"
    }
   ],
   "source": [
    "# Calculate LR accuracy\n",
    "accuracy = accuracy_score(y_test, y_pred)\n",
    "print(f\"Accuracy: {accuracy}\")\n",
    "\n",
    "# Create confusion matrix for correctly/incorrectly predicting outcome variable\n",
    "cm = confusion_matrix(y_test, y_pred)\n",
    "plt.figure(figsize = (8, 6))\n",
    "sns.heatmap(cm, annot = True, fmt = 'd', cmap = \"GnBu\", \n",
    "           xticklabels = [\"No Disaster\", \"Disaster\"], \n",
    "           yticklabels = [\"No Disaster\", \"Disaster\"])\n",
    "plt.title('Logistic Regression Model Performance')\n",
    "plt.ylabel('True Label')\n",
    "plt.xlabel('Predicted Label')\n",
    "plt.show()"
   ]
  },
  {
   "cell_type": "code",
   "execution_count": 38,
   "id": "5dade358-dbc2-4bde-82e5-4076235f0abc",
   "metadata": {
    "tags": []
   },
   "outputs": [
    {
     "name": "stdout",
     "output_type": "stream",
     "text": [
      "Text: BREAKING: Massive earthquake hits the coast\n",
      "Predictions: Real Disaster\n",
      "\n",
      "Text: I love watching disaster movies on Netflix\n",
      "Predictions: Not a Real Disaster\n",
      "\n",
      "Text: Thousands di as hurricane approaches\n",
      "Predictions: Real Disaster\n",
      "\n",
      "Text: My anus is bleeding\n",
      "Predictions: Not a Real Disaster\n",
      "\n",
      "Text: AAAAAAAAAAAAAAAAAAAAAAAAAAAAAAAAAAA\n",
      "Predictions: Not a Real Disaster\n",
      "\n",
      "Text: I dropped my pencil and I'm too lazy to pick it up myself\n",
      "Predictions: Not a Real Disaster\n",
      "\n",
      "Text: what about the meg\n",
      "Predictions: Not a Real Disaster\n",
      "\n"
     ]
    }
   ],
   "source": [
    "# Preprocess new phrases\n",
    "new_text = [\n",
    "    \"BREAKING: Massive earthquake hits the coast\",\n",
    "    \"I love watching disaster movies on Netflix\",\n",
    "    \"Thousands di as hurricane approaches\",\n",
    "    \"My anus is bleeding\", \n",
    "    \"AAAAAAAAAAAAAAAAAAAAAAAAAAAAAAAAAAA\", \n",
    "    \"I dropped my pencil and I'm too lazy to pick it up myself\",\n",
    "    \"what about the meg\"\n",
    "]\n",
    "\n",
    "# process new phrases\n",
    "cleaned_new_text = [preprocess(text) for text in new_text]\n",
    "\n",
    "# Transform using TF-IDF vectorizer\n",
    "new_features = tfidf_vectorizer.transform(cleaned_new_text)\n",
    "\n",
    "# Make predictions\n",
    "predictions = lr_model.predict(new_features)\n",
    "\n",
    "# Check outcomes\n",
    "for text, pred in zip(new_text, predictions):\n",
    "    print(f\"Text: {text}\")\n",
    "    print(f\"Predictions: {'Real Disaster' if pred == 1 else 'Not a Real Disaster'}\\n\")"
   ]
  },
  {
   "cell_type": "code",
   "execution_count": null,
   "id": "1bf79b8c-adfa-41d5-97e8-956847f97a92",
   "metadata": {},
   "outputs": [],
   "source": []
  }
 ],
 "metadata": {
  "kernelspec": {
   "display_name": "Anaconda 3 (EDS232)",
   "language": "python",
   "name": "ml-env"
  },
  "language_info": {
   "codemirror_mode": {
    "name": "ipython",
    "version": 3
   },
   "file_extension": ".py",
   "mimetype": "text/x-python",
   "name": "python",
   "nbconvert_exporter": "python",
   "pygments_lexer": "ipython3",
   "version": "3.10.16"
  }
 },
 "nbformat": 4,
 "nbformat_minor": 5
}
