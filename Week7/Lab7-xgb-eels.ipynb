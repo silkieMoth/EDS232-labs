{
 "cells": [
  {
   "cell_type": "markdown",
   "id": "b6e8c422-cc19-4d89-8f96-003c36cf7c33",
   "metadata": {},
   "source": [
    "## Lab 7: Eel Distribution Modeling with XGBoost\n",
    "\n",
    "**Reference Paper:** [Elith et al. (2008)](https://ucsb.box.com/s/6k7636wsbogdg3orarxrlowke0ounbic)\n",
    "\n",
    "In this lab, you will model the distribution of the eel species *Anguilla australis* using **boosted classification trees (BCTs)**, a machine learning technique that improves predictive performance by combining multiple decision trees. Elith et al. (2008) offered an early implementation of BRTs in an ecological setting to understand how environmental variables influence eel distribution.\n",
    "\n",
    "You will work with **two datasets**:\n",
    "1. **Training Data** – Used to build and evaluate your XGBoost model.\n",
    "2. **Evaluation Data** – Used to assess model performance on unseen data.\n",
    "\n",
    "To achieve the following objectives:\n",
    "- Train and fine-tune an **XGBoost** model for classification of species presence/absence data.\n",
    "- Compare your model’s performance to the approach used by Elith et al.\n",
    "\n",
    "\n",
    "**Wherever applicable in this lab, use a random state of 808.**"
   ]
  },
  {
   "cell_type": "markdown",
   "id": "ac39e743-8686-4f51-85ee-7c1925002f5f",
   "metadata": {},
   "source": [
    "### Step 0: Load libraries and data\n"
   ]
  },
  {
   "cell_type": "code",
   "execution_count": 1,
   "id": "dd687480-182a-4416-9cdd-10eb33d147d1",
   "metadata": {
    "tags": []
   },
   "outputs": [],
   "source": [
    "import pandas as pd\n",
    "import numpy as np\n",
    "from sklearn.model_selection import train_test_split,RandomizedSearchCV\n",
    "from sklearn.preprocessing import LabelEncoder\n",
    "import xgboost as xgb\n",
    "from xgboost import XGBClassifier\n",
    "from sklearn.metrics import roc_auc_score\n",
    "from scipy.stats import uniform, randint\n",
    "import matplotlib.pyplot as plt\n",
    "\n",
    "# supress warnings\n",
    "import warnings\n",
    "warnings.filterwarnings('ignore')\n",
    "\n",
    "# Download the datasets\n",
    "model_data = pd.read_csv(\"/courses/EDS232/Data/model.data.csv\").drop(columns=['Site'])\n",
    "eval_data = pd.read_csv(\"/courses/EDS232/Data/eval.data.csv\")"
   ]
  },
  {
   "cell_type": "markdown",
   "id": "21e16c25",
   "metadata": {},
   "source": [
    "### Step 1:Initial Data Preprocessing\n",
    "Let's get started by preparing our data. `Angaus` will be our target variable(`y`), and all other variables will be our features (`X`). Then encode the categorical feature using `LabelEncoder()`. The final step will be a bit different this time.  We don't need to split off testing data for the final model evaluation; a separate set (`eval_data`) will be used as in Elith et al.  We do, however, need to split our data in order to do the early stopping process. When splitting your data into training and validation, use a test size of 0.2 and a random state of 808. "
   ]
  },
  {
   "cell_type": "code",
   "execution_count": 2,
   "id": "92f8a3c0",
   "metadata": {
    "tags": []
   },
   "outputs": [],
   "source": [
    "# set predictors and dependant variable\n",
    "y = model_data['Angaus']\n",
    "x = model_data.iloc[:, 1:]\n",
    "\n",
    "# make copy to encode\n",
    "x_encoded = x.copy()\n",
    "\n",
    "# encode all categorical variables\n",
    "for column in x.select_dtypes(include = 'object'): \n",
    "    x_encoded[column] = LabelEncoder().fit_transform(x.select_dtypes(include = 'object'))\n",
    "\n",
    "# split data\n",
    "x_train, x_test, y_train, y_test = train_test_split(x_encoded, y, test_size = 0.2, random_state = 808)"
   ]
  },
  {
   "cell_type": "markdown",
   "id": "e025a34e",
   "metadata": {},
   "source": [
    "### Step 2: Determine best number of trees using early stopping\n",
    "As a guard against overfitting while maximizing performance, we use **early stopping**. We start with a large number of trees and allow XGBoost to determine the optimal number by stopping training when the validation error no longer improves.\n",
    "\n",
    "The choice of hyperparameter starting values is important in this process. We begin with:\n",
    "- `n_estimators=1000` to ensure the model has enough capacity to learn meaningful patterns.\n",
    "- `learning_rate=0.1` as a reasonable default that balances learning speed and performance.\n",
    "- `eval_metric=\"logloss\"` as the metric of performance to optimize.\n",
    "- `early_stopping_rounds=50` to halt training if no improvement is seen for 50 rounds, preventing unnecessary computations.\n",
    "- `random_state = 808`\n",
    "\n",
    "We then `fit()` our specified baseline model, passing in the training sets as usual and specifying validation sets values for the `eval_set` parameter.\n",
    "\n",
    "Finally, get and print the best number of trees from the fitted baseline model.\n"
   ]
  },
  {
   "cell_type": "code",
   "execution_count": 3,
   "id": "1ce2a9a8-ae71-467d-9263-ef5621722550",
   "metadata": {
    "tags": []
   },
   "outputs": [],
   "source": [
    "# make first xgboost model\n",
    "boost_maker = (XGBClassifier(n_estimators = 1000, \n",
    "                            learning_rate = 0.1, \n",
    "                            eval_metric = \"logloss\", # measure of uncertainty where 0 equals perfect model\n",
    "                            early_stopping_rounds = 50, \n",
    "                            random_state = 808,\n",
    "                            n_jobs = -1) # use more cores to run this function\n",
    "               .fit(x_train, y_train, eval_set = [(x_test, y_test)], verbose = False)) # fit model"
   ]
  },
  {
   "cell_type": "code",
   "execution_count": 4,
   "id": "aaec68f0-9f95-4501-9b35-b0608fdfbbcc",
   "metadata": {
    "tags": []
   },
   "outputs": [
    {
     "name": "stdout",
     "output_type": "stream",
     "text": [
      "Most optimal tree/last tree where the model experienced improvement: tree 34\n"
     ]
    }
   ],
   "source": [
    "print(f\"Most optimal tree/last tree where the model experienced improvement: tree {boost_maker.best_iteration}\")"
   ]
  },
  {
   "cell_type": "markdown",
   "id": "95ac1456",
   "metadata": {},
   "source": [
    "### Step 3: Tune Learning Rate\n",
    "\n",
    "The (`learning_rate` hyperparameter controls how much each tree contributes to improving the model's performance. A *higher* learning rate allows the model to learn quickly but risks missing the optimal solution and overfitting, while a *lower* learning rate makes learning slower but can improve generalization.\n",
    "\n",
    "To find the optimal value, we'll use **randomized search cross-validation** (`RandomizedSearchCV`) to test different learning rates in the 0.01 to 0.3 range. Instead of testing every possible value, this method samples a set number of candidates (`n_iter`) from a defined parameter distribution.  In this case, sampling 20 candidates from a uniform distribution between `0.01` and `0.31`. Check out the [documentation](https://docs.scipy.org/doc/scipy/reference/generated/scipy.stats.uniform.html) on `scipy.stats.uniform` to see how it differs from `random.uniform`. Be sure to use a random state of 808.\n",
    "\n",
    "After using `RandomizedSearchCV`, fit your model. Print the best learning rate. \n"
   ]
  },
  {
   "cell_type": "code",
   "execution_count": 5,
   "id": "dff7a0c0-7c69-4ac1-96dc-2941614fdf69",
   "metadata": {
    "tags": []
   },
   "outputs": [],
   "source": [
    "# make predictor grid\n",
    "param_grid1 = dict(learning_rate = uniform.rvs(size = 100, scale = 0.31, loc = 0.01, random_state = 808))\n",
    "\n",
    "# test parameters for optimal values\n",
    "random_search = RandomizedSearchCV(boost_maker, \n",
    "                                   param_grid1,\n",
    "                                   n_iter = 20, \n",
    "                                   random_state = 808, \n",
    "                                   n_jobs = -1\n",
    "                                  )\n",
    "\n",
    "# fit on best values\n",
    "random_search.fit(x_train, y_train, eval_set = [(x_test, y_test)], verbose = 0);"
   ]
  },
  {
   "cell_type": "code",
   "execution_count": 6,
   "id": "8eb474ce-6c02-4f04-a9df-f143b9ef53ec",
   "metadata": {
    "tags": []
   },
   "outputs": [
    {
     "name": "stdout",
     "output_type": "stream",
     "text": [
      "Best learning rate: 0.05077641254647287\n",
      "Last tree where the model experienced improvement: tree 34\n"
     ]
    }
   ],
   "source": [
    "print(f\"Best learning rate: {random_search.best_params_['learning_rate']}\")\n",
    "print(f\"Last tree where the model experienced improvement: tree {boost_maker.best_iteration}\")"
   ]
  },
  {
   "cell_type": "markdown",
   "id": "71907b11",
   "metadata": {},
   "source": [
    "### Step 4: Tune Tree-Specific Parameters\n",
    "\n",
    "Now that we've determined the best number of tree and learning rate, we need to tune the complexity of individual trees in our model. Initialize your model with the best number of trees and learning rate.Then, define a parameter dictionary that takes on the following values:  \n",
    "\n",
    "- `max_depth`(Controls how deep each tree can grow.  Takes integer values): A random integer from 3 to 10 ( inclusive of 3 and 10)\n",
    "- `min_child_weight`( Determines the minimum number of samples required in a leaf node. Takes integer values) : A random integer from 1 to 10 ( inclusive of 1 and 10)\n",
    "- `gamma` (Defines the minimum loss reduction needed to make a further split in a tree. Can take on values from a continuous range):  A uniform distribution from 0.05 to 0.10 - once again remember to check the `scipy.stats.uniform()` documentation! \n",
    "- `random_state = 808`\n",
    "\n",
    "To find the best combination, we again use `RandomizedSearchCV`, allowing us to efficiently sample hyperparameters and evaluate different configurations using cross-validation. After fitting the model, print the best parameters. \n",
    "\n"
   ]
  },
  {
   "cell_type": "code",
   "execution_count": 7,
   "id": "c0068c3c-7d66-4a8d-867a-7ee41cfce761",
   "metadata": {
    "tags": []
   },
   "outputs": [],
   "source": [
    "# remake boosted model with optimal values\n",
    "boost_maker_op = (XGBClassifier(n_estimators = boost_maker.best_iteration, \n",
    "                                learning_rate = random_search.best_params_['learning_rate'], \n",
    "                                eval_metric = \"logloss\", \n",
    "                                early_stopping_rounds = 50, \n",
    "                                random_state = 808,\n",
    "                                n_jobs = -1)\n",
    "                   .fit(x_train, y_train, eval_set = [(x_test, y_test)], verbose = False))"
   ]
  },
  {
   "cell_type": "code",
   "execution_count": 8,
   "id": "95c411a3",
   "metadata": {
    "tags": []
   },
   "outputs": [],
   "source": [
    "# make new grid for new parameters\n",
    "param_grid = dict(max_depth = np.arange(3, 11), \n",
    "                  min_child_weight = np.arange(1, 11), \n",
    "                  gamma = uniform.rvs(size = 100, loc = 0.05, scale = 0.10 - 0.05, random_state = 808))"
   ]
  },
  {
   "cell_type": "code",
   "execution_count": 9,
   "id": "4ac76a7e-6db0-49da-9792-7d370954054b",
   "metadata": {
    "tags": []
   },
   "outputs": [],
   "source": [
    "# test new parameters for optimal values\n",
    "random_search2 = RandomizedSearchCV(boost_maker_op, \n",
    "                                    param_grid,\n",
    "                                    n_iter = 20, \n",
    "                                    random_state = 808, \n",
    "                                    n_jobs = -1\n",
    "                                  )\n",
    "\n",
    "# fit on best values\n",
    "random_search2.fit(x_train, y_train, eval_set = [(x_test, y_test)], verbose = 0);"
   ]
  },
  {
   "cell_type": "code",
   "execution_count": 10,
   "id": "3ebe0350-58e0-400b-aa3c-6e126fcb6289",
   "metadata": {
    "tags": []
   },
   "outputs": [
    {
     "name": "stdout",
     "output_type": "stream",
     "text": [
      "Optimal minimum number of samples needed to split: 4\n",
      "Optimal naximum tree depth: 7\n",
      "Optimal loss reduction value: 0.05396814988469069\n"
     ]
    }
   ],
   "source": [
    "print(f\"Optimal minimum number of samples needed to split: {random_search2.best_params_['min_child_weight']}\")\n",
    "print(f\"Optimal naximum tree depth: {random_search2.best_params_['max_depth']}\")\n",
    "print(f\"Optimal loss reduction value: {random_search2.best_params_['gamma']}\")"
   ]
  },
  {
   "cell_type": "markdown",
   "id": "2168bf81",
   "metadata": {},
   "source": [
    "### Step 5: Tune Stochastic Components\n",
    "\n",
    "Now, we are finally ready to tune the stochastic components of the XGBoost model.  These parameters help prevent overfitting by reducing correlation between trees. Initialize your model with the best number of trees, best learning rate,and your optimized tree values (**Note**: you can use \\**best_tree_parameters to unpack the the dictionary of optimzed tree values) .Then, define a parameter dictionary that takes on the following values:  \n",
    "\n",
    "- `subsample` (Controls the fraction of training samples used for each boosting round) : A uniform distribution between .5 and .10 (remeber to check `scipy.stats.uniform()` documentation! )\n",
    "- `colsample_bytree`(Specifies the fraction of features to consider when building each tree) : A uniform distribution between .5 and .10\n",
    "- `random_state = 808`\n",
    "\n",
    "We again use `RandomizedSearchCV` to find the best combination of these parameters. After fitting the model, print the best parameters. \n"
   ]
  },
  {
   "cell_type": "code",
   "execution_count": 11,
   "id": "778c0720-8844-4ef6-85f1-0147defc2a6b",
   "metadata": {
    "tags": []
   },
   "outputs": [],
   "source": [
    "# remake boosted model with additional values\n",
    "boost_maker_op = (XGBClassifier(**{**random_search.best_params_, **random_search2.best_params_}, \n",
    "                                eval_metric = \"logloss\", \n",
    "                                early_stopping_rounds = 50, \n",
    "                                random_state = 808,\n",
    "                                n_jobs = -1)\n",
    "                   .fit(x_train, y_train, eval_set = [(x_test, y_test)], verbose = False))"
   ]
  },
  {
   "cell_type": "code",
   "execution_count": 12,
   "id": "32a61aee-57b1-470b-aa07-488dbe70f898",
   "metadata": {
    "tags": []
   },
   "outputs": [],
   "source": [
    "# make third grid with new parameters\n",
    "param_dict = {\n",
    "    \"subsample\": uniform.rvs(size = 100, loc = 0.5, scale = 0.1 - 0.05), \n",
    "    \"colsample_bytree\": uniform.rvs(size = 100, loc = 0.5, scale = 0.1 - 0.05)\n",
    "}"
   ]
  },
  {
   "cell_type": "code",
   "execution_count": 13,
   "id": "8b4aecb4-3d0c-4287-8e5b-385d8d724481",
   "metadata": {
    "tags": []
   },
   "outputs": [],
   "source": [
    "# test parameters for optimal values\n",
    "random_search3 = RandomizedSearchCV(boost_maker_op, \n",
    "                                    param_dict,\n",
    "                                    n_iter = 20, \n",
    "                                    random_state = 808, \n",
    "                                    n_jobs = -1\n",
    "                                  )\n",
    "\n",
    "# fit on best values\n",
    "random_search3.fit(x_train, y_train, eval_set = [(x_test, y_test)], verbose = 0);"
   ]
  },
  {
   "cell_type": "code",
   "execution_count": 14,
   "id": "ae8fc241-afcc-4211-91e6-ab02b814402b",
   "metadata": {
    "tags": []
   },
   "outputs": [
    {
     "name": "stdout",
     "output_type": "stream",
     "text": [
      "Optimal value for learning_rate: 0.05077641254647287\n",
      "Optimal value for min_child_weight: 4\n",
      "Optimal value for max_depth: 7\n",
      "Optimal value for gamma: 0.05396814988469069\n",
      "Optimal value for subsample: 0.5394905306640807\n",
      "Optimal value for colsample_bytree: 0.5348155579513307\n"
     ]
    }
   ],
   "source": [
    "# join all optimal parameter values in single dict\n",
    "join = {**random_search.best_params_, **random_search2.best_params_, **random_search3.best_params_}\n",
    "\n",
    "# print all optimal values\n",
    "for feature in list(join): \n",
    "    print(f\"Optimal value for {feature}: {join[feature]}\")"
   ]
  },
  {
   "cell_type": "markdown",
   "id": "355cd2d2",
   "metadata": {},
   "source": [
    "### Step 6: Final Model Training and Evaluation\n",
    "\n",
    "With the best hyperparameters selected, we now train the final model on the full training dataset and evaluate it on the separate evaluation dataset.\n",
    "\n",
    "1. Prepare the evaluation data in the same manner as you did the training data\n",
    "\n",
    "2. Train final model using the best parameters found in previous tuning steps (`best_tree_params`, `best_stochastic_params`).Set  `eval_metric = \"logloss\"` \n",
    "\n",
    "3. Fit the model to the full training dataset and predict on the evaluation data \n"
   ]
  },
  {
   "cell_type": "code",
   "execution_count": 15,
   "id": "b68c8624-942b-4d1b-a665-77ca99685186",
   "metadata": {
    "scrolled": true,
    "tags": []
   },
   "outputs": [],
   "source": [
    "# make most optimal model\n",
    "boost_maker_op_final = (XGBClassifier(**join, \n",
    "                                eval_metric = \"logloss\", \n",
    "                                early_stopping_rounds = 50, \n",
    "                                random_state = 808,\n",
    "                                n_jobs = -1)\n",
    "                   .fit(x_train, y_train, eval_set = [(x_test, y_test)], verbose = False))"
   ]
  },
  {
   "cell_type": "markdown",
   "id": "1f39d80a",
   "metadata": {},
   "source": [
    "### Step 7: Model Performance\n",
    "\n",
    "Compute and print the AUC and feature importances for your model."
   ]
  },
  {
   "cell_type": "code",
   "execution_count": 16,
   "id": "86f7ef8c-cd8c-4b8d-88bd-939534e39e99",
   "metadata": {
    "tags": []
   },
   "outputs": [
    {
     "name": "stdout",
     "output_type": "stream",
     "text": [
      "Area under curve score: 0.8827701293283271\n"
     ]
    }
   ],
   "source": [
    "# generate probabilities\n",
    "boost_probs = boost_maker_op_final.predict_proba(x_test)[:,1]\n",
    "\n",
    "print(f\"Area under curve score: {roc_auc_score(y_test, boost_probs)}\")"
   ]
  },
  {
   "cell_type": "code",
   "execution_count": 17,
   "id": "21d73d0d-48de-45d8-a102-ce8b220be272",
   "metadata": {
    "tags": []
   },
   "outputs": [
    {
     "data": {
      "text/html": [
       "<div>\n",
       "<style scoped>\n",
       "    .dataframe tbody tr th:only-of-type {\n",
       "        vertical-align: middle;\n",
       "    }\n",
       "\n",
       "    .dataframe tbody tr th {\n",
       "        vertical-align: top;\n",
       "    }\n",
       "\n",
       "    .dataframe thead th {\n",
       "        text-align: right;\n",
       "    }\n",
       "</style>\n",
       "<table border=\"1\" class=\"dataframe\">\n",
       "  <thead>\n",
       "    <tr style=\"text-align: right;\">\n",
       "      <th></th>\n",
       "      <th>Feature</th>\n",
       "      <th>Importance</th>\n",
       "    </tr>\n",
       "  </thead>\n",
       "  <tbody>\n",
       "    <tr>\n",
       "      <th>0</th>\n",
       "      <td>SegSumT</td>\n",
       "      <td>0.168140</td>\n",
       "    </tr>\n",
       "    <tr>\n",
       "      <th>1</th>\n",
       "      <td>Method</td>\n",
       "      <td>0.126276</td>\n",
       "    </tr>\n",
       "    <tr>\n",
       "      <th>2</th>\n",
       "      <td>USNative</td>\n",
       "      <td>0.095213</td>\n",
       "    </tr>\n",
       "    <tr>\n",
       "      <th>3</th>\n",
       "      <td>USRainDays</td>\n",
       "      <td>0.092531</td>\n",
       "    </tr>\n",
       "    <tr>\n",
       "      <th>4</th>\n",
       "      <td>DSMaxSlope</td>\n",
       "      <td>0.083089</td>\n",
       "    </tr>\n",
       "    <tr>\n",
       "      <th>5</th>\n",
       "      <td>DSDam</td>\n",
       "      <td>0.075240</td>\n",
       "    </tr>\n",
       "    <tr>\n",
       "      <th>6</th>\n",
       "      <td>USSlope</td>\n",
       "      <td>0.073146</td>\n",
       "    </tr>\n",
       "    <tr>\n",
       "      <th>7</th>\n",
       "      <td>DSDist</td>\n",
       "      <td>0.065307</td>\n",
       "    </tr>\n",
       "    <tr>\n",
       "      <th>8</th>\n",
       "      <td>SegTSeas</td>\n",
       "      <td>0.058624</td>\n",
       "    </tr>\n",
       "    <tr>\n",
       "      <th>9</th>\n",
       "      <td>LocSed</td>\n",
       "      <td>0.057718</td>\n",
       "    </tr>\n",
       "    <tr>\n",
       "      <th>10</th>\n",
       "      <td>SegLowFlow</td>\n",
       "      <td>0.052891</td>\n",
       "    </tr>\n",
       "    <tr>\n",
       "      <th>11</th>\n",
       "      <td>USAvgT</td>\n",
       "      <td>0.051824</td>\n",
       "    </tr>\n",
       "  </tbody>\n",
       "</table>\n",
       "</div>"
      ],
      "text/plain": [
       "       Feature  Importance\n",
       "0      SegSumT    0.168140\n",
       "1       Method    0.126276\n",
       "2     USNative    0.095213\n",
       "3   USRainDays    0.092531\n",
       "4   DSMaxSlope    0.083089\n",
       "5        DSDam    0.075240\n",
       "6      USSlope    0.073146\n",
       "7       DSDist    0.065307\n",
       "8     SegTSeas    0.058624\n",
       "9       LocSed    0.057718\n",
       "10  SegLowFlow    0.052891\n",
       "11      USAvgT    0.051824"
      ]
     },
     "execution_count": 17,
     "metadata": {},
     "output_type": "execute_result"
    }
   ],
   "source": [
    "(\n",
    "    pd.DataFrame(\n",
    "        dict(\n",
    "            Feature = boost_maker_op_final.feature_names_in_, \n",
    "            Importance = boost_maker_op_final.feature_importances_)\n",
    "    )\n",
    "         .sort_values('Importance', ascending = False) # sort by feature importance\n",
    "         .reset_index(drop = True)\n",
    "    \n",
    ")"
   ]
  },
  {
   "cell_type": "markdown",
   "id": "7476ef1d",
   "metadata": {},
   "source": [
    "### Step 8: The comparison\n",
    "How does your model's performance compare to the of Elith et al. (See Tables 2 and 3)?  Is there another way to compare the models in addition to predictive performance?  Whose model wins in that regard?"
   ]
  },
  {
   "cell_type": "markdown",
   "id": "07dc2a69-bf1e-4442-ad9e-22dc26e0f2b3",
   "metadata": {
    "tags": []
   },
   "source": [
    "It seems that their model performs better, as it's ROC is higher. However, another way to test performance is to see how it does on new data, as in which model is more generalized. In this regard my model likely wins, as their's is more likely to have been overfit."
   ]
  }
 ],
 "metadata": {
  "kernelspec": {
   "display_name": "Python 3 (ipykernel)",
   "language": "python",
   "name": "python3"
  },
  "language_info": {
   "codemirror_mode": {
    "name": "ipython",
    "version": 3
   },
   "file_extension": ".py",
   "mimetype": "text/x-python",
   "name": "python",
   "nbconvert_exporter": "python",
   "pygments_lexer": "ipython3",
   "version": "3.7.13"
  }
 },
 "nbformat": 4,
 "nbformat_minor": 5
}
