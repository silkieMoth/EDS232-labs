{
 "cells": [
  {
   "cell_type": "code",
   "execution_count": 299,
   "id": "e8d2febd-ff00-491b-bb16-4c0fe604db5a",
   "metadata": {
    "tags": []
   },
   "outputs": [],
   "source": [
    "import pandas as pd\n",
    "import numpy as np\n",
    "from sklearn.preprocessing import StandardScaler\n",
    "from sklearn.ensemble import RandomForestRegressor, GradientBoostingRegressor\n",
    "from sklearn.model_selection import GridSearchCV, KFold, RandomizedSearchCV\n",
    "from sklearn.metrics import accuracy_score\n",
    "import matplotlib.pyplot as plt\n",
    "import seaborn as sns\n",
    "from scipy import stats\n",
    "from scipy.stats import uniform\n",
    "import os\n",
    "import time\n",
    "import xgboost as xgb\n",
    "from xgboost import XGBClassifier\n",
    "\n",
    "from patsy import dmatrices\n",
    "from statsmodels.stats.outliers_influence import variance_inflation_factor\n",
    "\n",
    "root = os.path.join(os.getcwd(), '..')\n",
    "\n",
    "train_df = pd.read_csv(os.path.join(root, \"data\", \"train.csv\"))\n",
    "test_df = pd.read_csv(os.path.join(root, \"data\", \"test.csv\"))\n",
    "\n",
    "ocean = pd.read_csv(os.path.join(root, \"data\", \"Bottle Field Descriptions.csv\"), encoding = \"ISO-8859-1\")\n",
    "meta = pd.read_csv(os.path.join(root, \"data\", \"Cast Field Descriptions.csv\"), encoding = \"ISO-8859-1\")"
   ]
  },
  {
   "cell_type": "code",
   "execution_count": 241,
   "id": "e76e6b06-0b15-46c8-9d6f-9d1ae84475da",
   "metadata": {
    "tags": []
   },
   "outputs": [],
   "source": [
    "train_df_clean = (train_df\n",
    "                  .drop(columns = [\"Unnamed: 12\", # junk col\n",
    "                                   \"Temperature_degC\", # omit multicolinear cols\n",
    "                                   \"Salinity1\", \n",
    "                                   \"R_Nuts\"])\n",
    "                  .rename(columns = {\"TA1.x\": \"TA1\", # make col name name\n",
    "                                     \"R_Oxy_micromol.Kg\": \"R_Oxy_micromol_Kg\"})) # clean name to prevent errors"
   ]
  },
  {
   "cell_type": "code",
   "execution_count": 254,
   "id": "012fc055-6021-4b06-bdf1-f01f20aeac31",
   "metadata": {
    "tags": []
   },
   "outputs": [],
   "source": [
    "# assign x and y\n",
    "y_train = train_df_clean.iloc[:, -1]\n",
    "x_train = train_df_clean.iloc[:, 1:(train_df_clean.shape[1] - 1)]\n",
    "\n",
    "x_test = test_df.rename(columns = {\"R_Oxy_micromol.Kg\": \"R_Oxy_micromol_Kg\"}) # clean name to prevent errors\n",
    "\n",
    "# scale predictors\n",
    "scaler = StandardScaler()\n",
    "\n",
    "# scale predictors\n",
    "x_train_scaled = pd.DataFrame(scaler.fit_transform(x_train), columns = x_train.columns)\n",
    "x_test_scaled = pd.DataFrame(scaler.fit_transform(x_test), columns = x_test.columns)"
   ]
  },
  {
   "cell_type": "code",
   "execution_count": 243,
   "id": "ad9f3882-2f76-4fff-8548-795285b14154",
   "metadata": {
    "tags": []
   },
   "outputs": [
    {
     "data": {
      "text/html": [
       "<div>\n",
       "<style scoped>\n",
       "    .dataframe tbody tr th:only-of-type {\n",
       "        vertical-align: middle;\n",
       "    }\n",
       "\n",
       "    .dataframe tbody tr th {\n",
       "        vertical-align: top;\n",
       "    }\n",
       "\n",
       "    .dataframe thead th {\n",
       "        text-align: right;\n",
       "    }\n",
       "</style>\n",
       "<table border=\"1\" class=\"dataframe\">\n",
       "  <thead>\n",
       "    <tr style=\"text-align: right;\">\n",
       "      <th></th>\n",
       "      <th>id</th>\n",
       "      <th>Lat_Dec</th>\n",
       "      <th>Lon_Dec</th>\n",
       "      <th>NO2uM</th>\n",
       "      <th>NO3uM</th>\n",
       "      <th>NH3uM</th>\n",
       "      <th>R_TEMP</th>\n",
       "      <th>R_Depth</th>\n",
       "      <th>R_Sal</th>\n",
       "      <th>R_DYNHT</th>\n",
       "      <th>R_Oxy_micromol_Kg</th>\n",
       "      <th>PO4uM</th>\n",
       "      <th>SiO3uM</th>\n",
       "      <th>TA1</th>\n",
       "      <th>DIC</th>\n",
       "    </tr>\n",
       "  </thead>\n",
       "  <tbody>\n",
       "    <tr>\n",
       "      <th>0</th>\n",
       "      <td>1</td>\n",
       "      <td>34.385030</td>\n",
       "      <td>-120.665530</td>\n",
       "      <td>0.030</td>\n",
       "      <td>33.80</td>\n",
       "      <td>0.00</td>\n",
       "      <td>7.79</td>\n",
       "      <td>323</td>\n",
       "      <td>141.2</td>\n",
       "      <td>0.642</td>\n",
       "      <td>37.40948</td>\n",
       "      <td>2.77</td>\n",
       "      <td>53.86</td>\n",
       "      <td>2287.45</td>\n",
       "      <td>2270.17</td>\n",
       "    </tr>\n",
       "    <tr>\n",
       "      <th>1</th>\n",
       "      <td>2</td>\n",
       "      <td>31.418333</td>\n",
       "      <td>-121.998333</td>\n",
       "      <td>0.000</td>\n",
       "      <td>34.70</td>\n",
       "      <td>0.00</td>\n",
       "      <td>7.12</td>\n",
       "      <td>323</td>\n",
       "      <td>140.8</td>\n",
       "      <td>0.767</td>\n",
       "      <td>64.81441</td>\n",
       "      <td>2.57</td>\n",
       "      <td>52.50</td>\n",
       "      <td>2279.10</td>\n",
       "      <td>2254.10</td>\n",
       "    </tr>\n",
       "    <tr>\n",
       "      <th>2</th>\n",
       "      <td>3</td>\n",
       "      <td>34.385030</td>\n",
       "      <td>-120.665530</td>\n",
       "      <td>0.180</td>\n",
       "      <td>14.20</td>\n",
       "      <td>0.00</td>\n",
       "      <td>11.68</td>\n",
       "      <td>50</td>\n",
       "      <td>246.8</td>\n",
       "      <td>0.144</td>\n",
       "      <td>180.29150</td>\n",
       "      <td>1.29</td>\n",
       "      <td>13.01</td>\n",
       "      <td>2230.80</td>\n",
       "      <td>2111.04</td>\n",
       "    </tr>\n",
       "    <tr>\n",
       "      <th>3</th>\n",
       "      <td>4</td>\n",
       "      <td>33.482580</td>\n",
       "      <td>-122.533070</td>\n",
       "      <td>0.013</td>\n",
       "      <td>29.67</td>\n",
       "      <td>0.01</td>\n",
       "      <td>8.33</td>\n",
       "      <td>232</td>\n",
       "      <td>158.5</td>\n",
       "      <td>0.562</td>\n",
       "      <td>89.62595</td>\n",
       "      <td>2.27</td>\n",
       "      <td>38.98</td>\n",
       "      <td>2265.85</td>\n",
       "      <td>2223.41</td>\n",
       "    </tr>\n",
       "    <tr>\n",
       "      <th>4</th>\n",
       "      <td>5</td>\n",
       "      <td>31.414320</td>\n",
       "      <td>-121.997670</td>\n",
       "      <td>0.000</td>\n",
       "      <td>33.10</td>\n",
       "      <td>0.05</td>\n",
       "      <td>7.53</td>\n",
       "      <td>323</td>\n",
       "      <td>143.4</td>\n",
       "      <td>0.740</td>\n",
       "      <td>60.03062</td>\n",
       "      <td>2.53</td>\n",
       "      <td>49.28</td>\n",
       "      <td>2278.49</td>\n",
       "      <td>2252.62</td>\n",
       "    </tr>\n",
       "    <tr>\n",
       "      <th>...</th>\n",
       "      <td>...</td>\n",
       "      <td>...</td>\n",
       "      <td>...</td>\n",
       "      <td>...</td>\n",
       "      <td>...</td>\n",
       "      <td>...</td>\n",
       "      <td>...</td>\n",
       "      <td>...</td>\n",
       "      <td>...</td>\n",
       "      <td>...</td>\n",
       "      <td>...</td>\n",
       "      <td>...</td>\n",
       "      <td>...</td>\n",
       "      <td>...</td>\n",
       "      <td>...</td>\n",
       "    </tr>\n",
       "    <tr>\n",
       "      <th>1449</th>\n",
       "      <td>1450</td>\n",
       "      <td>33.420000</td>\n",
       "      <td>-117.901667</td>\n",
       "      <td>0.000</td>\n",
       "      <td>38.60</td>\n",
       "      <td>0.00</td>\n",
       "      <td>6.52</td>\n",
       "      <td>520</td>\n",
       "      <td>118.2</td>\n",
       "      <td>0.889</td>\n",
       "      <td>12.17673</td>\n",
       "      <td>3.11</td>\n",
       "      <td>73.10</td>\n",
       "      <td>2313.52</td>\n",
       "      <td>2311.19</td>\n",
       "    </tr>\n",
       "    <tr>\n",
       "      <th>1450</th>\n",
       "      <td>1451</td>\n",
       "      <td>34.271667</td>\n",
       "      <td>-120.023333</td>\n",
       "      <td>0.330</td>\n",
       "      <td>5.90</td>\n",
       "      <td>0.00</td>\n",
       "      <td>13.21</td>\n",
       "      <td>49</td>\n",
       "      <td>290.1</td>\n",
       "      <td>0.149</td>\n",
       "      <td>224.81120</td>\n",
       "      <td>0.75</td>\n",
       "      <td>6.50</td>\n",
       "      <td>2223.31</td>\n",
       "      <td>2048.93</td>\n",
       "    </tr>\n",
       "    <tr>\n",
       "      <th>1451</th>\n",
       "      <td>1452</td>\n",
       "      <td>31.410000</td>\n",
       "      <td>-121.991667</td>\n",
       "      <td>0.000</td>\n",
       "      <td>33.60</td>\n",
       "      <td>0.00</td>\n",
       "      <td>7.61</td>\n",
       "      <td>322</td>\n",
       "      <td>143.1</td>\n",
       "      <td>0.731</td>\n",
       "      <td>60.46569</td>\n",
       "      <td>2.56</td>\n",
       "      <td>49.50</td>\n",
       "      <td>2280.43</td>\n",
       "      <td>2251.34</td>\n",
       "    </tr>\n",
       "    <tr>\n",
       "      <th>1452</th>\n",
       "      <td>1453</td>\n",
       "      <td>34.274270</td>\n",
       "      <td>-120.030570</td>\n",
       "      <td>0.517</td>\n",
       "      <td>1.58</td>\n",
       "      <td>0.35</td>\n",
       "      <td>14.47</td>\n",
       "      <td>30</td>\n",
       "      <td>319.0</td>\n",
       "      <td>0.110</td>\n",
       "      <td>249.28420</td>\n",
       "      <td>0.54</td>\n",
       "      <td>4.12</td>\n",
       "      <td>2223.88</td>\n",
       "      <td>2030.03</td>\n",
       "    </tr>\n",
       "    <tr>\n",
       "      <th>1453</th>\n",
       "      <td>1454</td>\n",
       "      <td>32.421030</td>\n",
       "      <td>-119.963580</td>\n",
       "      <td>0.006</td>\n",
       "      <td>0.00</td>\n",
       "      <td>0.05</td>\n",
       "      <td>16.84</td>\n",
       "      <td>3</td>\n",
       "      <td>352.0</td>\n",
       "      <td>0.011</td>\n",
       "      <td>247.19050</td>\n",
       "      <td>0.32</td>\n",
       "      <td>0.67</td>\n",
       "      <td>2237.74</td>\n",
       "      <td>2015.34</td>\n",
       "    </tr>\n",
       "  </tbody>\n",
       "</table>\n",
       "<p>1454 rows × 15 columns</p>\n",
       "</div>"
      ],
      "text/plain": [
       "        id    Lat_Dec     Lon_Dec  NO2uM  NO3uM  NH3uM  R_TEMP  R_Depth  \\\n",
       "0        1  34.385030 -120.665530  0.030  33.80   0.00    7.79      323   \n",
       "1        2  31.418333 -121.998333  0.000  34.70   0.00    7.12      323   \n",
       "2        3  34.385030 -120.665530  0.180  14.20   0.00   11.68       50   \n",
       "3        4  33.482580 -122.533070  0.013  29.67   0.01    8.33      232   \n",
       "4        5  31.414320 -121.997670  0.000  33.10   0.05    7.53      323   \n",
       "...    ...        ...         ...    ...    ...    ...     ...      ...   \n",
       "1449  1450  33.420000 -117.901667  0.000  38.60   0.00    6.52      520   \n",
       "1450  1451  34.271667 -120.023333  0.330   5.90   0.00   13.21       49   \n",
       "1451  1452  31.410000 -121.991667  0.000  33.60   0.00    7.61      322   \n",
       "1452  1453  34.274270 -120.030570  0.517   1.58   0.35   14.47       30   \n",
       "1453  1454  32.421030 -119.963580  0.006   0.00   0.05   16.84        3   \n",
       "\n",
       "      R_Sal  R_DYNHT  R_Oxy_micromol_Kg  PO4uM  SiO3uM      TA1      DIC  \n",
       "0     141.2    0.642           37.40948   2.77   53.86  2287.45  2270.17  \n",
       "1     140.8    0.767           64.81441   2.57   52.50  2279.10  2254.10  \n",
       "2     246.8    0.144          180.29150   1.29   13.01  2230.80  2111.04  \n",
       "3     158.5    0.562           89.62595   2.27   38.98  2265.85  2223.41  \n",
       "4     143.4    0.740           60.03062   2.53   49.28  2278.49  2252.62  \n",
       "...     ...      ...                ...    ...     ...      ...      ...  \n",
       "1449  118.2    0.889           12.17673   3.11   73.10  2313.52  2311.19  \n",
       "1450  290.1    0.149          224.81120   0.75    6.50  2223.31  2048.93  \n",
       "1451  143.1    0.731           60.46569   2.56   49.50  2280.43  2251.34  \n",
       "1452  319.0    0.110          249.28420   0.54    4.12  2223.88  2030.03  \n",
       "1453  352.0    0.011          247.19050   0.32    0.67  2237.74  2015.34  \n",
       "\n",
       "[1454 rows x 15 columns]"
      ]
     },
     "execution_count": 243,
     "metadata": {},
     "output_type": "execute_result"
    }
   ],
   "source": [
    "train_df_clean"
   ]
  },
  {
   "cell_type": "code",
   "execution_count": 244,
   "id": "670df676-c89c-451e-abca-968c4b6006c5",
   "metadata": {
    "tags": []
   },
   "outputs": [
    {
     "data": {
      "text/html": [
       "<div>\n",
       "<style scoped>\n",
       "    .dataframe tbody tr th:only-of-type {\n",
       "        vertical-align: middle;\n",
       "    }\n",
       "\n",
       "    .dataframe tbody tr th {\n",
       "        vertical-align: top;\n",
       "    }\n",
       "\n",
       "    .dataframe thead th {\n",
       "        text-align: right;\n",
       "    }\n",
       "</style>\n",
       "<table border=\"1\" class=\"dataframe\">\n",
       "  <thead>\n",
       "    <tr style=\"text-align: right;\">\n",
       "      <th></th>\n",
       "      <th>columns</th>\n",
       "      <th>units</th>\n",
       "      <th>description</th>\n",
       "    </tr>\n",
       "  </thead>\n",
       "  <tbody>\n",
       "    <tr>\n",
       "      <th>0</th>\n",
       "      <td>id</td>\n",
       "      <td>NaN</td>\n",
       "      <td>NaN</td>\n",
       "    </tr>\n",
       "    <tr>\n",
       "      <th>1</th>\n",
       "      <td>Lat_Dec</td>\n",
       "      <td>decimal degrees</td>\n",
       "      <td>Observed Latitude in decimal degrees</td>\n",
       "    </tr>\n",
       "    <tr>\n",
       "      <th>2</th>\n",
       "      <td>Lon_Dec</td>\n",
       "      <td>decimal degrees</td>\n",
       "      <td>Observed Longitude in decimal degrees</td>\n",
       "    </tr>\n",
       "    <tr>\n",
       "      <th>3</th>\n",
       "      <td>NO2uM</td>\n",
       "      <td>micromoles per liter</td>\n",
       "      <td>Micromoles Nitrite per liter of seawater</td>\n",
       "    </tr>\n",
       "    <tr>\n",
       "      <th>4</th>\n",
       "      <td>NO3uM</td>\n",
       "      <td>micromoles per liter</td>\n",
       "      <td>Micromoles Nitrate per liter of seawater</td>\n",
       "    </tr>\n",
       "    <tr>\n",
       "      <th>5</th>\n",
       "      <td>NH3uM</td>\n",
       "      <td>micromoles per liter</td>\n",
       "      <td>Micromoles Ammonia per liter of seawater</td>\n",
       "    </tr>\n",
       "    <tr>\n",
       "      <th>6</th>\n",
       "      <td>R_TEMP</td>\n",
       "      <td>C</td>\n",
       "      <td>Reported (Potential) Temperature in degrees Ce...</td>\n",
       "    </tr>\n",
       "    <tr>\n",
       "      <th>7</th>\n",
       "      <td>R_Depth</td>\n",
       "      <td>meters</td>\n",
       "      <td>Reported Depth (from pressure) in meters</td>\n",
       "    </tr>\n",
       "    <tr>\n",
       "      <th>8</th>\n",
       "      <td>R_Sal</td>\n",
       "      <td>Practical Salinity Scale</td>\n",
       "      <td>Reported Salinity (from Specific Volume Anomol...</td>\n",
       "    </tr>\n",
       "    <tr>\n",
       "      <th>9</th>\n",
       "      <td>R_DYNHT</td>\n",
       "      <td>dynamic meters</td>\n",
       "      <td>Reported Dynamic Height in units of dynamic me...</td>\n",
       "    </tr>\n",
       "    <tr>\n",
       "      <th>10</th>\n",
       "      <td>R_Oxy_micromol_Kg</td>\n",
       "      <td>O2 mM/kg</td>\n",
       "      <td>Oxygen micromoles per kilogram seawater</td>\n",
       "    </tr>\n",
       "    <tr>\n",
       "      <th>11</th>\n",
       "      <td>PO4uM</td>\n",
       "      <td>micromoles per liter</td>\n",
       "      <td>Micromoles Phosphate per liter of seawater</td>\n",
       "    </tr>\n",
       "    <tr>\n",
       "      <th>12</th>\n",
       "      <td>SiO3uM</td>\n",
       "      <td>micromoles per liter</td>\n",
       "      <td>Micromoles Silicate per liter of seawater</td>\n",
       "    </tr>\n",
       "    <tr>\n",
       "      <th>13</th>\n",
       "      <td>TA1</td>\n",
       "      <td>micromoles per kilogram</td>\n",
       "      <td>Total Alkalinity micromoles per kilogram solution</td>\n",
       "    </tr>\n",
       "    <tr>\n",
       "      <th>14</th>\n",
       "      <td>DIC</td>\n",
       "      <td>mM/kg</td>\n",
       "      <td>Dissolved Inorganic Carbon micromoles per kilo...</td>\n",
       "    </tr>\n",
       "  </tbody>\n",
       "</table>\n",
       "</div>"
      ],
      "text/plain": [
       "              columns                     units  \\\n",
       "0                  id                       NaN   \n",
       "1             Lat_Dec           decimal degrees   \n",
       "2             Lon_Dec           decimal degrees   \n",
       "3               NO2uM      micromoles per liter   \n",
       "4               NO3uM      micromoles per liter   \n",
       "5               NH3uM      micromoles per liter   \n",
       "6              R_TEMP                         C   \n",
       "7             R_Depth                    meters   \n",
       "8               R_Sal  Practical Salinity Scale   \n",
       "9             R_DYNHT            dynamic meters   \n",
       "10  R_Oxy_micromol_Kg                  O2 mM/kg   \n",
       "11              PO4uM      micromoles per liter   \n",
       "12             SiO3uM      micromoles per liter   \n",
       "13                TA1   micromoles per kilogram   \n",
       "14                DIC                     mM/kg   \n",
       "\n",
       "                                          description  \n",
       "0                                                 NaN  \n",
       "1                Observed Latitude in decimal degrees  \n",
       "2               Observed Longitude in decimal degrees  \n",
       "3            Micromoles Nitrite per liter of seawater  \n",
       "4            Micromoles Nitrate per liter of seawater  \n",
       "5            Micromoles Ammonia per liter of seawater  \n",
       "6   Reported (Potential) Temperature in degrees Ce...  \n",
       "7            Reported Depth (from pressure) in meters  \n",
       "8   Reported Salinity (from Specific Volume Anomol...  \n",
       "9   Reported Dynamic Height in units of dynamic me...  \n",
       "10            Oxygen micromoles per kilogram seawater  \n",
       "11         Micromoles Phosphate per liter of seawater  \n",
       "12          Micromoles Silicate per liter of seawater  \n",
       "13  Total Alkalinity micromoles per kilogram solution  \n",
       "14  Dissolved Inorganic Carbon micromoles per kilo...  "
      ]
     },
     "execution_count": 244,
     "metadata": {},
     "output_type": "execute_result"
    }
   ],
   "source": [
    "metadata = (pd.DataFrame({'columns': train_df_clean.columns})\n",
    " .merge(ocean, left_on = \"columns\", right_on = \"Field Name\", how = \"left\") \n",
    " .merge(meta, left_on = \"columns\", right_on = \"Field Name\", how = \"left\")\n",
    ")\n",
    "\n",
    "metadata['field_name'] = metadata[\"Field Name_x\"].fillna(metadata['Field Name_y'])\n",
    "metadata['units'] = metadata[\"Units_x\"].fillna(metadata['Units_y'])\n",
    "metadata['description'] = metadata[\"Description_x\"].fillna(metadata['Description_y'])\n",
    "metadata = metadata.drop(['Description_x', 'Description_y', 'Units_x', 'Units_y', 'Field Name_x', 'Field Name_y'], axis = 1)\n",
    "\n",
    "metadata.loc[metadata[\"columns\"] == 'R_Oxy_micromol_Kg', \"description\"] = \"Oxygen micromoles per kilogram seawater\"\n",
    "metadata.loc[metadata[\"columns\"] == 'Salinity1', \"description\"] = \"Reported Salinity (from Specific Volume Anomoly, M³/Kg)\"\n",
    "metadata.loc[metadata[\"columns\"] == 'R_TEMP', \"description\"] = \"Reported (Potential) Temperature in degrees Celsius\"\n",
    "metadata.loc[metadata[\"columns\"] == 'Temperature_degC', \"description\"] = \"Also temperature in degrees Celsius\"\n",
    "metadata.loc[metadata[\"columns\"] == 'DIC', \"description\"] = \"Dissolved Inorganic Carbon micromoles per kilogram solution\"\n",
    "\n",
    "metadata.loc[metadata[\"columns\"] == 'R_Oxy_micromol_Kg', \"units\"] = \"O2 mM/kg\"\n",
    "metadata.loc[metadata[\"columns\"] == 'Salinity1', \"units\"] = \"M³/Kg\"\n",
    "metadata.loc[metadata[\"columns\"] == 'R_TEMP', \"units\"] = \"C\"\n",
    "metadata.loc[metadata[\"columns\"] == 'Temperature_degC', \"units\"] = \"C\"\n",
    "metadata.loc[metadata[\"columns\"] == 'DIC', \"units\"] = \"mM/kg\"\n",
    "\n",
    "\n",
    "metadata = metadata.drop(columns = [\"field_name\", \"Unnamed: 3\"])\n",
    "\n",
    "metadata"
   ]
  },
  {
   "cell_type": "code",
   "execution_count": 245,
   "id": "7438f2b1-d94a-4e5d-90d2-3cbee83f92ba",
   "metadata": {
    "tags": []
   },
   "outputs": [
    {
     "data": {
      "text/plain": [
       "'DIC ~ id+Lat_Dec+Lon_Dec+NO2uM+NO3uM+NH3uM+R_TEMP+R_Depth+R_Sal+R_DYNHT+R_Oxy_micromol_Kg+PO4uM+SiO3uM+TA1'"
      ]
     },
     "execution_count": 245,
     "metadata": {},
     "output_type": "execute_result"
    }
   ],
   "source": [
    "full_str = y_train.name + \" ~ \"\n",
    "for col in x_train.columns:\n",
    "    if col != x_train.columns[-1]:\n",
    "        full_str = full_str + col + \"+\"\n",
    "    else:\n",
    "        full_str = full_str + col\n",
    "\n",
    "full_str"
   ]
  },
  {
   "cell_type": "code",
   "execution_count": 247,
   "id": "2d7bbf67-9282-41b9-a294-1b9210ec75fe",
   "metadata": {
    "tags": []
   },
   "outputs": [
    {
     "data": {
      "text/html": [
       "<div>\n",
       "<style scoped>\n",
       "    .dataframe tbody tr th:only-of-type {\n",
       "        vertical-align: middle;\n",
       "    }\n",
       "\n",
       "    .dataframe tbody tr th {\n",
       "        vertical-align: top;\n",
       "    }\n",
       "\n",
       "    .dataframe thead th {\n",
       "        text-align: right;\n",
       "    }\n",
       "</style>\n",
       "<table border=\"1\" class=\"dataframe\">\n",
       "  <thead>\n",
       "    <tr style=\"text-align: right;\">\n",
       "      <th></th>\n",
       "      <th>variable</th>\n",
       "      <th>VIF</th>\n",
       "    </tr>\n",
       "  </thead>\n",
       "  <tbody>\n",
       "    <tr>\n",
       "      <th>0</th>\n",
       "      <td>Intercept</td>\n",
       "      <td>123661.682964</td>\n",
       "    </tr>\n",
       "    <tr>\n",
       "      <th>1</th>\n",
       "      <td>id</td>\n",
       "      <td>1.023144</td>\n",
       "    </tr>\n",
       "    <tr>\n",
       "      <th>2</th>\n",
       "      <td>Lat_Dec</td>\n",
       "      <td>1.479910</td>\n",
       "    </tr>\n",
       "    <tr>\n",
       "      <th>3</th>\n",
       "      <td>Lon_Dec</td>\n",
       "      <td>1.382050</td>\n",
       "    </tr>\n",
       "    <tr>\n",
       "      <th>4</th>\n",
       "      <td>NO2uM</td>\n",
       "      <td>1.613419</td>\n",
       "    </tr>\n",
       "    <tr>\n",
       "      <th>5</th>\n",
       "      <td>NO3uM</td>\n",
       "      <td>64.739662</td>\n",
       "    </tr>\n",
       "    <tr>\n",
       "      <th>6</th>\n",
       "      <td>NH3uM</td>\n",
       "      <td>1.312171</td>\n",
       "    </tr>\n",
       "    <tr>\n",
       "      <th>7</th>\n",
       "      <td>R_TEMP</td>\n",
       "      <td>102.209103</td>\n",
       "    </tr>\n",
       "    <tr>\n",
       "      <th>8</th>\n",
       "      <td>R_Depth</td>\n",
       "      <td>15.667547</td>\n",
       "    </tr>\n",
       "    <tr>\n",
       "      <th>9</th>\n",
       "      <td>R_Sal</td>\n",
       "      <td>135.383019</td>\n",
       "    </tr>\n",
       "    <tr>\n",
       "      <th>10</th>\n",
       "      <td>R_DYNHT</td>\n",
       "      <td>21.411081</td>\n",
       "    </tr>\n",
       "    <tr>\n",
       "      <th>11</th>\n",
       "      <td>R_Oxy_micromol_Kg</td>\n",
       "      <td>68.838915</td>\n",
       "    </tr>\n",
       "    <tr>\n",
       "      <th>12</th>\n",
       "      <td>PO4uM</td>\n",
       "      <td>180.311437</td>\n",
       "    </tr>\n",
       "    <tr>\n",
       "      <th>13</th>\n",
       "      <td>SiO3uM</td>\n",
       "      <td>70.632117</td>\n",
       "    </tr>\n",
       "    <tr>\n",
       "      <th>14</th>\n",
       "      <td>TA1</td>\n",
       "      <td>19.487547</td>\n",
       "    </tr>\n",
       "  </tbody>\n",
       "</table>\n",
       "</div>"
      ],
      "text/plain": [
       "             variable            VIF\n",
       "0           Intercept  123661.682964\n",
       "1                  id       1.023144\n",
       "2             Lat_Dec       1.479910\n",
       "3             Lon_Dec       1.382050\n",
       "4               NO2uM       1.613419\n",
       "5               NO3uM      64.739662\n",
       "6               NH3uM       1.312171\n",
       "7              R_TEMP     102.209103\n",
       "8             R_Depth      15.667547\n",
       "9               R_Sal     135.383019\n",
       "10            R_DYNHT      21.411081\n",
       "11  R_Oxy_micromol_Kg      68.838915\n",
       "12              PO4uM     180.311437\n",
       "13             SiO3uM      70.632117\n",
       "14                TA1      19.487547"
      ]
     },
     "execution_count": 247,
     "metadata": {},
     "output_type": "execute_result"
    }
   ],
   "source": [
    "# find design matrix for regression model using 'rating' as response variable \n",
    "y_matr, x_matr = dmatrices(full_str, data=train_df_clean, return_type='dataframe')\n",
    "\n",
    "# create DataFrame to hold VIF values\n",
    "vif_df = pd.DataFrame()\n",
    "vif_df['variable'] = x_matr.columns\n",
    "\n",
    "#calculate VIF for each predictor variable \n",
    "vif_df['VIF'] = [variance_inflation_factor(x_matr.replace(0, np.nan).dropna().values, i) for i in range(x_matr.shape[1])]\n",
    "\n",
    "vif_df"
   ]
  },
  {
   "cell_type": "code",
   "execution_count": 248,
   "id": "81a371d7-ea71-4791-8a8f-b86b03f42f63",
   "metadata": {
    "tags": []
   },
   "outputs": [
    {
     "data": {
      "text/plain": [
       "2315.04"
      ]
     },
     "execution_count": 248,
     "metadata": {},
     "output_type": "execute_result"
    }
   ],
   "source": [
    "np.percentile(train_df_clean['DIC'], 95)"
   ]
  },
  {
   "cell_type": "code",
   "execution_count": 249,
   "id": "87808e84-e1dd-449e-af55-9e920c3c348a",
   "metadata": {
    "tags": []
   },
   "outputs": [
    {
     "data": {
      "text/plain": [
       "0       False\n",
       "1       False\n",
       "2       False\n",
       "3       False\n",
       "4       False\n",
       "        ...  \n",
       "1449    False\n",
       "1450    False\n",
       "1451    False\n",
       "1452    False\n",
       "1453    False\n",
       "Name: DIC, Length: 1454, dtype: bool"
      ]
     },
     "execution_count": 249,
     "metadata": {},
     "output_type": "execute_result"
    }
   ],
   "source": [
    "test_pct_counts"
   ]
  },
  {
   "cell_type": "code",
   "execution_count": 250,
   "id": "73109aba-f312-4ca1-a40b-fb6089631d26",
   "metadata": {
    "tags": []
   },
   "outputs": [
    {
     "data": {
      "text/plain": [
       "30"
      ]
     },
     "execution_count": 250,
     "metadata": {},
     "output_type": "execute_result"
    }
   ],
   "source": [
    "test_pct_counts = (\n",
    " (train_df_clean['DIC'] > np.percentile(train_df_clean['DIC'], 99)) |\n",
    " (train_df_clean['DIC'] < np.percentile(train_df_clean['DIC'], 1))\n",
    ")\n",
    "\n",
    "test_pct_counts.where(test_pct_counts == True).dropna().value_counts().values[0]"
   ]
  },
  {
   "cell_type": "code",
   "execution_count": 251,
   "id": "d8522079-4fec-4367-a844-e6803d927a28",
   "metadata": {
    "tags": []
   },
   "outputs": [
    {
     "name": "stdout",
     "output_type": "stream",
     "text": [
      "id: 15.384699999999999\n",
      "\tnum outliers: 30\n",
      "Lat_Dec: 31.411088701\n",
      "\tnum outliers: 30\n",
      "Lon_Dec: -123.90777\n",
      "\tnum outliers: 20\n",
      "NO2uM: 0.0\n",
      "\tnum outliers: 15\n",
      "NO3uM: 0.0\n",
      "\tnum outliers: 14\n",
      "NH3uM: 0.0\n",
      "\tnum outliers: 15\n",
      "R_TEMP: 5.453847\n",
      "\tnum outliers: 29\n",
      "R_Depth: 2.0\n",
      "\tnum outliers: 29\n",
      "R_Sal: 108.97694\n",
      "\tnum outliers: 30\n",
      "R_DYNHT: 0.004\n",
      "\tnum outliers: 25\n",
      "R_Oxy_micromol_Kg: 6.824397263999996\n",
      "\tnum outliers: 30\n",
      "PO4uM: 0.22\n",
      "\tnum outliers: 28\n",
      "SiO3uM: 0.42\n",
      "\tnum outliers: 28\n",
      "TA1: 2207.003858\n",
      "\tnum outliers: 30\n",
      "DIC: 1989.3239709449\n",
      "\tnum outliers: 30\n"
     ]
    }
   ],
   "source": [
    "for col in train_df_clean:\n",
    "     true_counts = (\n",
    "     (train_df_clean[col] > np.percentile(train_df_clean[col], 99)) |\n",
    "     (train_df_clean[col] < np.percentile(train_df_clean[col], 1))\n",
    "    )\n",
    "    \n",
    "     true_counts = true_counts.where(true_counts == True).dropna().value_counts().values[0]\n",
    "    \n",
    "     print(f\"{col}: {np.percentile(train_df_clean[col], 0.99)}\")\n",
    "     print(f\"\\tnum outliers: {true_counts}\")"
   ]
  },
  {
   "cell_type": "code",
   "execution_count": 4,
   "id": "e7cc86df-bd1b-4fe9-8b0a-e5eac7658af2",
   "metadata": {
    "tags": []
   },
   "outputs": [
    {
     "data": {
      "text/plain": [
       "1984.1098"
      ]
     },
     "execution_count": 4,
     "metadata": {},
     "output_type": "execute_result"
    }
   ],
   "source": [
    "np.percentile(train_df_clean['DIC'], 0.5)"
   ]
  },
  {
   "cell_type": "code",
   "execution_count": 108,
   "id": "a83af9f1-e2c3-4e5a-990f-4555feae64d1",
   "metadata": {
    "tags": []
   },
   "outputs": [
    {
     "data": {
      "text/plain": [
       "id                     0\n",
       "Lat_Dec              137\n",
       "Lon_Dec               42\n",
       "NO2uM                  8\n",
       "NO3uM                  0\n",
       "NH3uM                 53\n",
       "R_TEMP                58\n",
       "R_Depth               12\n",
       "R_Sal                 46\n",
       "R_DYNHT               12\n",
       "R_Nuts                53\n",
       "R_Oxy_micromol.Kg      1\n",
       "PO4uM                  8\n",
       "SiO3uM                27\n",
       "TA1                   27\n",
       "Salinity1             22\n",
       "Temperature_degC      58\n",
       "DIC                    0\n",
       "dtype: int64"
      ]
     },
     "execution_count": 108,
     "metadata": {},
     "output_type": "execute_result"
    }
   ],
   "source": [
    "z_scores = np.abs(stats.zscore(train_df_clean))\n",
    "\n",
    "train_df_clean.where(z_scores > 2).dropna(how = \"all\").notna().sum()\n",
    "# z_scores"
   ]
  },
  {
   "cell_type": "code",
   "execution_count": 252,
   "id": "550df4da-bc8b-4fef-b48f-12f3b9efb1e7",
   "metadata": {
    "tags": []
   },
   "outputs": [
    {
     "data": {
      "text/html": [
       "<div>\n",
       "<style scoped>\n",
       "    .dataframe tbody tr th:only-of-type {\n",
       "        vertical-align: middle;\n",
       "    }\n",
       "\n",
       "    .dataframe tbody tr th {\n",
       "        vertical-align: top;\n",
       "    }\n",
       "\n",
       "    .dataframe thead th {\n",
       "        text-align: right;\n",
       "    }\n",
       "</style>\n",
       "<table border=\"1\" class=\"dataframe\">\n",
       "  <thead>\n",
       "    <tr style=\"text-align: right;\">\n",
       "      <th></th>\n",
       "      <th>id</th>\n",
       "      <th>Lat_Dec</th>\n",
       "      <th>Lon_Dec</th>\n",
       "      <th>NO2uM</th>\n",
       "      <th>NO3uM</th>\n",
       "      <th>NH3uM</th>\n",
       "      <th>R_TEMP</th>\n",
       "      <th>R_Depth</th>\n",
       "      <th>R_Sal</th>\n",
       "      <th>R_DYNHT</th>\n",
       "      <th>R_Oxy_micromol_Kg</th>\n",
       "      <th>PO4uM</th>\n",
       "      <th>SiO3uM</th>\n",
       "      <th>TA1</th>\n",
       "      <th>DIC</th>\n",
       "    </tr>\n",
       "  </thead>\n",
       "  <tbody>\n",
       "    <tr>\n",
       "      <th>0</th>\n",
       "      <td>1.730860</td>\n",
       "      <td>1.250025</td>\n",
       "      <td>0.261255</td>\n",
       "      <td>0.113395</td>\n",
       "      <td>1.035053</td>\n",
       "      <td>0.445686</td>\n",
       "      <td>0.835676</td>\n",
       "      <td>0.372944</td>\n",
       "      <td>0.942650</td>\n",
       "      <td>0.732056</td>\n",
       "      <td>1.180854</td>\n",
       "      <td>1.098656</td>\n",
       "      <td>0.862668</td>\n",
       "      <td>0.891844</td>\n",
       "      <td>1.058135</td>\n",
       "    </tr>\n",
       "    <tr>\n",
       "      <th>1</th>\n",
       "      <td>1.728478</td>\n",
       "      <td>2.079771</td>\n",
       "      <td>1.036464</td>\n",
       "      <td>0.218873</td>\n",
       "      <td>1.097514</td>\n",
       "      <td>0.445686</td>\n",
       "      <td>1.016713</td>\n",
       "      <td>0.372944</td>\n",
       "      <td>0.947175</td>\n",
       "      <td>1.074428</td>\n",
       "      <td>0.884229</td>\n",
       "      <td>0.903362</td>\n",
       "      <td>0.815147</td>\n",
       "      <td>0.654648</td>\n",
       "      <td>0.916079</td>\n",
       "    </tr>\n",
       "    <tr>\n",
       "      <th>2</th>\n",
       "      <td>1.726095</td>\n",
       "      <td>1.250025</td>\n",
       "      <td>0.261255</td>\n",
       "      <td>0.413995</td>\n",
       "      <td>0.325198</td>\n",
       "      <td>0.445686</td>\n",
       "      <td>0.215414</td>\n",
       "      <td>0.412970</td>\n",
       "      <td>0.251955</td>\n",
       "      <td>0.631954</td>\n",
       "      <td>0.365668</td>\n",
       "      <td>0.346519</td>\n",
       "      <td>0.564713</td>\n",
       "      <td>0.717393</td>\n",
       "      <td>0.348543</td>\n",
       "    </tr>\n",
       "    <tr>\n",
       "      <th>3</th>\n",
       "      <td>1.723713</td>\n",
       "      <td>0.237123</td>\n",
       "      <td>1.347488</td>\n",
       "      <td>0.173166</td>\n",
       "      <td>0.748429</td>\n",
       "      <td>0.393290</td>\n",
       "      <td>0.689767</td>\n",
       "      <td>0.110973</td>\n",
       "      <td>0.746943</td>\n",
       "      <td>0.512938</td>\n",
       "      <td>0.615675</td>\n",
       "      <td>0.610421</td>\n",
       "      <td>0.342731</td>\n",
       "      <td>0.278260</td>\n",
       "      <td>0.644785</td>\n",
       "    </tr>\n",
       "    <tr>\n",
       "      <th>4</th>\n",
       "      <td>1.721330</td>\n",
       "      <td>2.084275</td>\n",
       "      <td>1.036079</td>\n",
       "      <td>0.218873</td>\n",
       "      <td>0.986473</td>\n",
       "      <td>0.183708</td>\n",
       "      <td>0.905929</td>\n",
       "      <td>0.372944</td>\n",
       "      <td>0.917762</td>\n",
       "      <td>1.000476</td>\n",
       "      <td>0.936008</td>\n",
       "      <td>0.864303</td>\n",
       "      <td>0.702634</td>\n",
       "      <td>0.637320</td>\n",
       "      <td>0.902996</td>\n",
       "    </tr>\n",
       "    <tr>\n",
       "      <th>...</th>\n",
       "      <td>...</td>\n",
       "      <td>...</td>\n",
       "      <td>...</td>\n",
       "      <td>...</td>\n",
       "      <td>...</td>\n",
       "      <td>...</td>\n",
       "      <td>...</td>\n",
       "      <td>...</td>\n",
       "      <td>...</td>\n",
       "      <td>...</td>\n",
       "      <td>...</td>\n",
       "      <td>...</td>\n",
       "      <td>...</td>\n",
       "      <td>...</td>\n",
       "      <td>...</td>\n",
       "    </tr>\n",
       "    <tr>\n",
       "      <th>1449</th>\n",
       "      <td>1.721330</td>\n",
       "      <td>0.166883</td>\n",
       "      <td>1.346314</td>\n",
       "      <td>0.218873</td>\n",
       "      <td>1.368176</td>\n",
       "      <td>0.445686</td>\n",
       "      <td>1.178834</td>\n",
       "      <td>0.940068</td>\n",
       "      <td>1.202838</td>\n",
       "      <td>1.408583</td>\n",
       "      <td>1.453967</td>\n",
       "      <td>1.430655</td>\n",
       "      <td>1.534953</td>\n",
       "      <td>1.632405</td>\n",
       "      <td>1.420743</td>\n",
       "    </tr>\n",
       "    <tr>\n",
       "      <th>1450</th>\n",
       "      <td>1.723713</td>\n",
       "      <td>1.122787</td>\n",
       "      <td>0.112271</td>\n",
       "      <td>0.941385</td>\n",
       "      <td>0.901223</td>\n",
       "      <td>0.445686</td>\n",
       "      <td>0.628824</td>\n",
       "      <td>0.415848</td>\n",
       "      <td>0.741788</td>\n",
       "      <td>0.618259</td>\n",
       "      <td>0.847539</td>\n",
       "      <td>0.873812</td>\n",
       "      <td>0.792186</td>\n",
       "      <td>0.930159</td>\n",
       "      <td>0.897583</td>\n",
       "    </tr>\n",
       "    <tr>\n",
       "      <th>1451</th>\n",
       "      <td>1.726095</td>\n",
       "      <td>2.089124</td>\n",
       "      <td>1.032587</td>\n",
       "      <td>0.218873</td>\n",
       "      <td>1.021173</td>\n",
       "      <td>0.445686</td>\n",
       "      <td>0.884313</td>\n",
       "      <td>0.370065</td>\n",
       "      <td>0.921156</td>\n",
       "      <td>0.975825</td>\n",
       "      <td>0.931299</td>\n",
       "      <td>0.893597</td>\n",
       "      <td>0.710321</td>\n",
       "      <td>0.692429</td>\n",
       "      <td>0.891681</td>\n",
       "    </tr>\n",
       "    <tr>\n",
       "      <th>1452</th>\n",
       "      <td>1.728478</td>\n",
       "      <td>1.125709</td>\n",
       "      <td>0.108062</td>\n",
       "      <td>1.598864</td>\n",
       "      <td>1.201033</td>\n",
       "      <td>1.388155</td>\n",
       "      <td>0.969280</td>\n",
       "      <td>0.470546</td>\n",
       "      <td>1.068720</td>\n",
       "      <td>0.725079</td>\n",
       "      <td>1.112429</td>\n",
       "      <td>1.078871</td>\n",
       "      <td>0.875348</td>\n",
       "      <td>0.913967</td>\n",
       "      <td>1.064655</td>\n",
       "    </tr>\n",
       "    <tr>\n",
       "      <th>1453</th>\n",
       "      <td>1.730860</td>\n",
       "      <td>0.954352</td>\n",
       "      <td>0.147026</td>\n",
       "      <td>0.197777</td>\n",
       "      <td>1.310686</td>\n",
       "      <td>0.183708</td>\n",
       "      <td>1.609661</td>\n",
       "      <td>0.548273</td>\n",
       "      <td>1.442034</td>\n",
       "      <td>0.996237</td>\n",
       "      <td>1.089768</td>\n",
       "      <td>1.293694</td>\n",
       "      <td>0.995898</td>\n",
       "      <td>0.520251</td>\n",
       "      <td>1.194512</td>\n",
       "    </tr>\n",
       "  </tbody>\n",
       "</table>\n",
       "<p>1454 rows × 15 columns</p>\n",
       "</div>"
      ],
      "text/plain": [
       "            id   Lat_Dec   Lon_Dec     NO2uM     NO3uM     NH3uM    R_TEMP  \\\n",
       "0     1.730860  1.250025  0.261255  0.113395  1.035053  0.445686  0.835676   \n",
       "1     1.728478  2.079771  1.036464  0.218873  1.097514  0.445686  1.016713   \n",
       "2     1.726095  1.250025  0.261255  0.413995  0.325198  0.445686  0.215414   \n",
       "3     1.723713  0.237123  1.347488  0.173166  0.748429  0.393290  0.689767   \n",
       "4     1.721330  2.084275  1.036079  0.218873  0.986473  0.183708  0.905929   \n",
       "...        ...       ...       ...       ...       ...       ...       ...   \n",
       "1449  1.721330  0.166883  1.346314  0.218873  1.368176  0.445686  1.178834   \n",
       "1450  1.723713  1.122787  0.112271  0.941385  0.901223  0.445686  0.628824   \n",
       "1451  1.726095  2.089124  1.032587  0.218873  1.021173  0.445686  0.884313   \n",
       "1452  1.728478  1.125709  0.108062  1.598864  1.201033  1.388155  0.969280   \n",
       "1453  1.730860  0.954352  0.147026  0.197777  1.310686  0.183708  1.609661   \n",
       "\n",
       "       R_Depth     R_Sal   R_DYNHT  R_Oxy_micromol_Kg     PO4uM    SiO3uM  \\\n",
       "0     0.372944  0.942650  0.732056           1.180854  1.098656  0.862668   \n",
       "1     0.372944  0.947175  1.074428           0.884229  0.903362  0.815147   \n",
       "2     0.412970  0.251955  0.631954           0.365668  0.346519  0.564713   \n",
       "3     0.110973  0.746943  0.512938           0.615675  0.610421  0.342731   \n",
       "4     0.372944  0.917762  1.000476           0.936008  0.864303  0.702634   \n",
       "...        ...       ...       ...                ...       ...       ...   \n",
       "1449  0.940068  1.202838  1.408583           1.453967  1.430655  1.534953   \n",
       "1450  0.415848  0.741788  0.618259           0.847539  0.873812  0.792186   \n",
       "1451  0.370065  0.921156  0.975825           0.931299  0.893597  0.710321   \n",
       "1452  0.470546  1.068720  0.725079           1.112429  1.078871  0.875348   \n",
       "1453  0.548273  1.442034  0.996237           1.089768  1.293694  0.995898   \n",
       "\n",
       "           TA1       DIC  \n",
       "0     0.891844  1.058135  \n",
       "1     0.654648  0.916079  \n",
       "2     0.717393  0.348543  \n",
       "3     0.278260  0.644785  \n",
       "4     0.637320  0.902996  \n",
       "...        ...       ...  \n",
       "1449  1.632405  1.420743  \n",
       "1450  0.930159  0.897583  \n",
       "1451  0.692429  0.891681  \n",
       "1452  0.913967  1.064655  \n",
       "1453  0.520251  1.194512  \n",
       "\n",
       "[1454 rows x 15 columns]"
      ]
     },
     "execution_count": 252,
     "metadata": {},
     "output_type": "execute_result"
    }
   ],
   "source": [
    "np.abs(stats.zscore(train_df_clean))"
   ]
  },
  {
   "cell_type": "code",
   "execution_count": 264,
   "id": "4677cb4b-5bd8-4156-a2bb-a39d872c4457",
   "metadata": {
    "tags": []
   },
   "outputs": [],
   "source": [
    "# set random forest param grid\n",
    "param_rf = {\n",
    "    'max_features': ('sqrt', \"log2\", None),\n",
    "    'n_estimators': (50, 100, 200), \n",
    "    'max_depth': (3, 4, 5, 6, 7), \n",
    "    'min_samples_split': (2, 5, 10),\n",
    "    'min_samples_leaf': (1, 2, 4)\n",
    "}"
   ]
  },
  {
   "cell_type": "code",
   "execution_count": 265,
   "id": "66d9e61c-9f71-4842-8d2e-239dc9c81c81",
   "metadata": {
    "tags": []
   },
   "outputs": [],
   "source": [
    "# time at start of cv\n",
    "time_before_rf = time.time()\n",
    "\n",
    "# find best params for random forest\n",
    "best_rf = GridSearchCV(\n",
    "    RandomForestRegressor(), \n",
    "    param_rf,\n",
    "    cv = 10,\n",
    "    n_jobs = 5\n",
    ")\n",
    "\n",
    "best_rf.fit(x_train, y_train)\n",
    "\n",
    "# time after cv runs\n",
    "time_after_rf = time.time()\n",
    "\n",
    "# get computation time of cv function\n",
    "total_time_rf = time_after_rf - time_before_rf"
   ]
  },
  {
   "cell_type": "code",
   "execution_count": 266,
   "id": "23e2699b-9215-45b0-8abd-de5492cc9198",
   "metadata": {
    "tags": []
   },
   "outputs": [
    {
     "name": "stdout",
     "output_type": "stream",
     "text": [
      "Total RF computation time: 4 minutes, 26.56 seconds\n"
     ]
    }
   ],
   "source": [
    "# get total time\n",
    "print(f\"Total RF computation time: {round(total_time_rf/60)} minutes, {round(total_time_rf%60, 2)} seconds\")"
   ]
  },
  {
   "cell_type": "code",
   "execution_count": 267,
   "id": "1c696c73-c377-45d2-b0b1-e0e5943f435f",
   "metadata": {
    "tags": []
   },
   "outputs": [
    {
     "data": {
      "text/plain": [
       "{'max_depth': 7,\n",
       " 'max_features': 'sqrt',\n",
       " 'min_samples_leaf': 1,\n",
       " 'min_samples_split': 5,\n",
       " 'n_estimators': 200}"
      ]
     },
     "execution_count": 267,
     "metadata": {},
     "output_type": "execute_result"
    }
   ],
   "source": [
    "best_rf.best_params_"
   ]
  },
  {
   "cell_type": "code",
   "execution_count": 268,
   "id": "bc04da0b-7feb-4926-bc21-60530ff82ede",
   "metadata": {
    "tags": []
   },
   "outputs": [
    {
     "data": {
      "text/plain": [
       "0.9970835646207427"
      ]
     },
     "execution_count": 268,
     "metadata": {},
     "output_type": "execute_result"
    }
   ],
   "source": [
    "best_rf.best_score_"
   ]
  },
  {
   "cell_type": "code",
   "execution_count": 276,
   "id": "7cb45678-cdfb-4adb-b55f-9e20c85bf2b1",
   "metadata": {
    "tags": []
   },
   "outputs": [],
   "source": [
    "# set random forest param grid\n",
    "param_boost_1 = {\n",
    "    'learning_rate': (0.01, 0.05, 0.1),\n",
    "    'n_estimators': (50, 100, 200), \n",
    "    'max_depth': (2, 3, 5), \n",
    "    'subsample': (0.6, 0.8, 1.0), \n",
    "    'min_samples_leaf': (1, 2, 4), \n",
    "    'max_features': ('sqrt', 'log2', None)\n",
    "    \n",
    "}\n",
    "\n",
    "param_boost_2 = {\n",
    "    'n_estimators': (50, 100, 200), \n",
    "    'max_depth': (2, 3, 5), \n",
    "    'subsample': (0.6, 0.8, 1.0), \n",
    "    'min_samples_leaf': (1, 2, 4), \n",
    "    'max_features': ('sqrt', 'log2', None)\n",
    "    \n",
    "}"
   ]
  },
  {
   "cell_type": "markdown",
   "id": "75193f0e-4dfb-4bdc-a7e8-fc5657516206",
   "metadata": {},
   "source": [
    "## Step 1: find optimal number of trees"
   ]
  },
  {
   "cell_type": "code",
   "execution_count": 294,
   "id": "2cb54bfa-d314-4630-beb0-a877a39d8264",
   "metadata": {
    "tags": []
   },
   "outputs": [
    {
     "data": {
      "text/html": [
       "<style>#sk-container-id-3 {color: black;}#sk-container-id-3 pre{padding: 0;}#sk-container-id-3 div.sk-toggleable {background-color: white;}#sk-container-id-3 label.sk-toggleable__label {cursor: pointer;display: block;width: 100%;margin-bottom: 0;padding: 0.3em;box-sizing: border-box;text-align: center;}#sk-container-id-3 label.sk-toggleable__label-arrow:before {content: \"▸\";float: left;margin-right: 0.25em;color: #696969;}#sk-container-id-3 label.sk-toggleable__label-arrow:hover:before {color: black;}#sk-container-id-3 div.sk-estimator:hover label.sk-toggleable__label-arrow:before {color: black;}#sk-container-id-3 div.sk-toggleable__content {max-height: 0;max-width: 0;overflow: hidden;text-align: left;background-color: #f0f8ff;}#sk-container-id-3 div.sk-toggleable__content pre {margin: 0.2em;color: black;border-radius: 0.25em;background-color: #f0f8ff;}#sk-container-id-3 input.sk-toggleable__control:checked~div.sk-toggleable__content {max-height: 200px;max-width: 100%;overflow: auto;}#sk-container-id-3 input.sk-toggleable__control:checked~label.sk-toggleable__label-arrow:before {content: \"▾\";}#sk-container-id-3 div.sk-estimator input.sk-toggleable__control:checked~label.sk-toggleable__label {background-color: #d4ebff;}#sk-container-id-3 div.sk-label input.sk-toggleable__control:checked~label.sk-toggleable__label {background-color: #d4ebff;}#sk-container-id-3 input.sk-hidden--visually {border: 0;clip: rect(1px 1px 1px 1px);clip: rect(1px, 1px, 1px, 1px);height: 1px;margin: -1px;overflow: hidden;padding: 0;position: absolute;width: 1px;}#sk-container-id-3 div.sk-estimator {font-family: monospace;background-color: #f0f8ff;border: 1px dotted black;border-radius: 0.25em;box-sizing: border-box;margin-bottom: 0.5em;}#sk-container-id-3 div.sk-estimator:hover {background-color: #d4ebff;}#sk-container-id-3 div.sk-parallel-item::after {content: \"\";width: 100%;border-bottom: 1px solid gray;flex-grow: 1;}#sk-container-id-3 div.sk-label:hover label.sk-toggleable__label {background-color: #d4ebff;}#sk-container-id-3 div.sk-serial::before {content: \"\";position: absolute;border-left: 1px solid gray;box-sizing: border-box;top: 0;bottom: 0;left: 50%;z-index: 0;}#sk-container-id-3 div.sk-serial {display: flex;flex-direction: column;align-items: center;background-color: white;padding-right: 0.2em;padding-left: 0.2em;position: relative;}#sk-container-id-3 div.sk-item {position: relative;z-index: 1;}#sk-container-id-3 div.sk-parallel {display: flex;align-items: stretch;justify-content: center;background-color: white;position: relative;}#sk-container-id-3 div.sk-item::before, #sk-container-id-3 div.sk-parallel-item::before {content: \"\";position: absolute;border-left: 1px solid gray;box-sizing: border-box;top: 0;bottom: 0;left: 50%;z-index: -1;}#sk-container-id-3 div.sk-parallel-item {display: flex;flex-direction: column;z-index: 1;position: relative;background-color: white;}#sk-container-id-3 div.sk-parallel-item:first-child::after {align-self: flex-end;width: 50%;}#sk-container-id-3 div.sk-parallel-item:last-child::after {align-self: flex-start;width: 50%;}#sk-container-id-3 div.sk-parallel-item:only-child::after {width: 0;}#sk-container-id-3 div.sk-dashed-wrapped {border: 1px dashed gray;margin: 0 0.4em 0.5em 0.4em;box-sizing: border-box;padding-bottom: 0.4em;background-color: white;}#sk-container-id-3 div.sk-label label {font-family: monospace;font-weight: bold;display: inline-block;line-height: 1.2em;}#sk-container-id-3 div.sk-label-container {text-align: center;}#sk-container-id-3 div.sk-container {/* jupyter's `normalize.less` sets `[hidden] { display: none; }` but bootstrap.min.css set `[hidden] { display: none !important; }` so we also need the `!important` here to be able to override the default hidden behavior on the sphinx rendered scikit-learn.org. See: https://github.com/scikit-learn/scikit-learn/issues/21755 */display: inline-block !important;position: relative;}#sk-container-id-3 div.sk-text-repr-fallback {display: none;}</style><div id=\"sk-container-id-3\" class=\"sk-top-container\"><div class=\"sk-text-repr-fallback\"><pre>GradientBoostingRegressor(n_estimators=1000, n_iter_no_change=50)</pre><b>In a Jupyter environment, please rerun this cell to show the HTML representation or trust the notebook. <br />On GitHub, the HTML representation is unable to render, please try loading this page with nbviewer.org.</b></div><div class=\"sk-container\" hidden><div class=\"sk-item\"><div class=\"sk-estimator sk-toggleable\"><input class=\"sk-toggleable__control sk-hidden--visually\" id=\"sk-estimator-id-3\" type=\"checkbox\" checked><label for=\"sk-estimator-id-3\" class=\"sk-toggleable__label sk-toggleable__label-arrow\">GradientBoostingRegressor</label><div class=\"sk-toggleable__content\"><pre>GradientBoostingRegressor(n_estimators=1000, n_iter_no_change=50)</pre></div></div></div></div></div>"
      ],
      "text/plain": [
       "GradientBoostingRegressor(n_estimators=1000, n_iter_no_change=50)"
      ]
     },
     "execution_count": 294,
     "metadata": {},
     "output_type": "execute_result"
    }
   ],
   "source": [
    "tree_finder = (GradientBoostingRegressor(n_estimators = 1000, \n",
    "                                        learning_rate = 0.1, \n",
    "                                        n_iter_no_change = 50) \n",
    "              )\n",
    "\n",
    "tree_finder.fit(x_train, y_train)"
   ]
  },
  {
   "cell_type": "code",
   "execution_count": 293,
   "id": "3ff1e65d-159b-47d4-bedc-52ddb2e5d193",
   "metadata": {
    "tags": []
   },
   "outputs": [
    {
     "name": "stdout",
     "output_type": "stream",
     "text": [
      "Most optimal tree/last tree where the model experienced improvement: tree 170\n"
     ]
    }
   ],
   "source": [
    "print(f\"Most optimal tree/last tree where the model experienced improvement: tree {tree_finder.n_estimators_}\")"
   ]
  },
  {
   "cell_type": "markdown",
   "id": "ba6513f0-cf1f-4f98-a0af-28cf8fb505ef",
   "metadata": {},
   "source": [
    "## Step 2: tune learning rate"
   ]
  },
  {
   "cell_type": "code",
   "execution_count": 314,
   "id": "9eb1df82-c6cd-4c86-bb5c-b6565927319a",
   "metadata": {
    "tags": []
   },
   "outputs": [
    {
     "data": {
      "text/html": [
       "<style>#sk-container-id-6 {color: black;}#sk-container-id-6 pre{padding: 0;}#sk-container-id-6 div.sk-toggleable {background-color: white;}#sk-container-id-6 label.sk-toggleable__label {cursor: pointer;display: block;width: 100%;margin-bottom: 0;padding: 0.3em;box-sizing: border-box;text-align: center;}#sk-container-id-6 label.sk-toggleable__label-arrow:before {content: \"▸\";float: left;margin-right: 0.25em;color: #696969;}#sk-container-id-6 label.sk-toggleable__label-arrow:hover:before {color: black;}#sk-container-id-6 div.sk-estimator:hover label.sk-toggleable__label-arrow:before {color: black;}#sk-container-id-6 div.sk-toggleable__content {max-height: 0;max-width: 0;overflow: hidden;text-align: left;background-color: #f0f8ff;}#sk-container-id-6 div.sk-toggleable__content pre {margin: 0.2em;color: black;border-radius: 0.25em;background-color: #f0f8ff;}#sk-container-id-6 input.sk-toggleable__control:checked~div.sk-toggleable__content {max-height: 200px;max-width: 100%;overflow: auto;}#sk-container-id-6 input.sk-toggleable__control:checked~label.sk-toggleable__label-arrow:before {content: \"▾\";}#sk-container-id-6 div.sk-estimator input.sk-toggleable__control:checked~label.sk-toggleable__label {background-color: #d4ebff;}#sk-container-id-6 div.sk-label input.sk-toggleable__control:checked~label.sk-toggleable__label {background-color: #d4ebff;}#sk-container-id-6 input.sk-hidden--visually {border: 0;clip: rect(1px 1px 1px 1px);clip: rect(1px, 1px, 1px, 1px);height: 1px;margin: -1px;overflow: hidden;padding: 0;position: absolute;width: 1px;}#sk-container-id-6 div.sk-estimator {font-family: monospace;background-color: #f0f8ff;border: 1px dotted black;border-radius: 0.25em;box-sizing: border-box;margin-bottom: 0.5em;}#sk-container-id-6 div.sk-estimator:hover {background-color: #d4ebff;}#sk-container-id-6 div.sk-parallel-item::after {content: \"\";width: 100%;border-bottom: 1px solid gray;flex-grow: 1;}#sk-container-id-6 div.sk-label:hover label.sk-toggleable__label {background-color: #d4ebff;}#sk-container-id-6 div.sk-serial::before {content: \"\";position: absolute;border-left: 1px solid gray;box-sizing: border-box;top: 0;bottom: 0;left: 50%;z-index: 0;}#sk-container-id-6 div.sk-serial {display: flex;flex-direction: column;align-items: center;background-color: white;padding-right: 0.2em;padding-left: 0.2em;position: relative;}#sk-container-id-6 div.sk-item {position: relative;z-index: 1;}#sk-container-id-6 div.sk-parallel {display: flex;align-items: stretch;justify-content: center;background-color: white;position: relative;}#sk-container-id-6 div.sk-item::before, #sk-container-id-6 div.sk-parallel-item::before {content: \"\";position: absolute;border-left: 1px solid gray;box-sizing: border-box;top: 0;bottom: 0;left: 50%;z-index: -1;}#sk-container-id-6 div.sk-parallel-item {display: flex;flex-direction: column;z-index: 1;position: relative;background-color: white;}#sk-container-id-6 div.sk-parallel-item:first-child::after {align-self: flex-end;width: 50%;}#sk-container-id-6 div.sk-parallel-item:last-child::after {align-self: flex-start;width: 50%;}#sk-container-id-6 div.sk-parallel-item:only-child::after {width: 0;}#sk-container-id-6 div.sk-dashed-wrapped {border: 1px dashed gray;margin: 0 0.4em 0.5em 0.4em;box-sizing: border-box;padding-bottom: 0.4em;background-color: white;}#sk-container-id-6 div.sk-label label {font-family: monospace;font-weight: bold;display: inline-block;line-height: 1.2em;}#sk-container-id-6 div.sk-label-container {text-align: center;}#sk-container-id-6 div.sk-container {/* jupyter's `normalize.less` sets `[hidden] { display: none; }` but bootstrap.min.css set `[hidden] { display: none !important; }` so we also need the `!important` here to be able to override the default hidden behavior on the sphinx rendered scikit-learn.org. See: https://github.com/scikit-learn/scikit-learn/issues/21755 */display: inline-block !important;position: relative;}#sk-container-id-6 div.sk-text-repr-fallback {display: none;}</style><div id=\"sk-container-id-6\" class=\"sk-top-container\"><div class=\"sk-text-repr-fallback\"><pre>RandomizedSearchCV(estimator=GradientBoostingRegressor(n_estimators=1000,\n",
       "                                                       n_iter_no_change=50),\n",
       "                   n_iter=20, n_jobs=-1,\n",
       "                   param_distributions={&#x27;learning_rate&#x27;: array([0.12652715, 0.17126432, 0.28409987, 0.19261255, 0.13616174,\n",
       "       0.04712748, 0.13845162, 0.24221554, 0.16470809, 0.11750039,\n",
       "       0.08705409, 0.03115891, 0.24943557, 0.14114388, 0.18579998,\n",
       "       0.1130818 , 0.23182972, 0.2355...\n",
       "       0.04025063, 0.20826669, 0.04739743, 0.22562264, 0.07201508,\n",
       "       0.10373111, 0.05304147, 0.30933889, 0.16514244, 0.0273647 ,\n",
       "       0.07967363, 0.18852721, 0.10424001, 0.08316952, 0.17231859,\n",
       "       0.27513089, 0.05279629, 0.04324343, 0.21043201, 0.25354874,\n",
       "       0.16925605, 0.10637304, 0.22572541, 0.08515565, 0.28535462,\n",
       "       0.28413951, 0.14959235, 0.22867317, 0.10140642, 0.1598874 ,\n",
       "       0.15609451, 0.10123351, 0.21501148, 0.28831989, 0.21125468])})</pre><b>In a Jupyter environment, please rerun this cell to show the HTML representation or trust the notebook. <br />On GitHub, the HTML representation is unable to render, please try loading this page with nbviewer.org.</b></div><div class=\"sk-container\" hidden><div class=\"sk-item sk-dashed-wrapped\"><div class=\"sk-label-container\"><div class=\"sk-label sk-toggleable\"><input class=\"sk-toggleable__control sk-hidden--visually\" id=\"sk-estimator-id-10\" type=\"checkbox\" ><label for=\"sk-estimator-id-10\" class=\"sk-toggleable__label sk-toggleable__label-arrow\">RandomizedSearchCV</label><div class=\"sk-toggleable__content\"><pre>RandomizedSearchCV(estimator=GradientBoostingRegressor(n_estimators=1000,\n",
       "                                                       n_iter_no_change=50),\n",
       "                   n_iter=20, n_jobs=-1,\n",
       "                   param_distributions={&#x27;learning_rate&#x27;: array([0.12652715, 0.17126432, 0.28409987, 0.19261255, 0.13616174,\n",
       "       0.04712748, 0.13845162, 0.24221554, 0.16470809, 0.11750039,\n",
       "       0.08705409, 0.03115891, 0.24943557, 0.14114388, 0.18579998,\n",
       "       0.1130818 , 0.23182972, 0.2355...\n",
       "       0.04025063, 0.20826669, 0.04739743, 0.22562264, 0.07201508,\n",
       "       0.10373111, 0.05304147, 0.30933889, 0.16514244, 0.0273647 ,\n",
       "       0.07967363, 0.18852721, 0.10424001, 0.08316952, 0.17231859,\n",
       "       0.27513089, 0.05279629, 0.04324343, 0.21043201, 0.25354874,\n",
       "       0.16925605, 0.10637304, 0.22572541, 0.08515565, 0.28535462,\n",
       "       0.28413951, 0.14959235, 0.22867317, 0.10140642, 0.1598874 ,\n",
       "       0.15609451, 0.10123351, 0.21501148, 0.28831989, 0.21125468])})</pre></div></div></div><div class=\"sk-parallel\"><div class=\"sk-parallel-item\"><div class=\"sk-item\"><div class=\"sk-label-container\"><div class=\"sk-label sk-toggleable\"><input class=\"sk-toggleable__control sk-hidden--visually\" id=\"sk-estimator-id-11\" type=\"checkbox\" ><label for=\"sk-estimator-id-11\" class=\"sk-toggleable__label sk-toggleable__label-arrow\">estimator: GradientBoostingRegressor</label><div class=\"sk-toggleable__content\"><pre>GradientBoostingRegressor(n_estimators=1000, n_iter_no_change=50)</pre></div></div></div><div class=\"sk-serial\"><div class=\"sk-item\"><div class=\"sk-estimator sk-toggleable\"><input class=\"sk-toggleable__control sk-hidden--visually\" id=\"sk-estimator-id-12\" type=\"checkbox\" ><label for=\"sk-estimator-id-12\" class=\"sk-toggleable__label sk-toggleable__label-arrow\">GradientBoostingRegressor</label><div class=\"sk-toggleable__content\"><pre>GradientBoostingRegressor(n_estimators=1000, n_iter_no_change=50)</pre></div></div></div></div></div></div></div></div></div></div>"
      ],
      "text/plain": [
       "RandomizedSearchCV(estimator=GradientBoostingRegressor(n_estimators=1000,\n",
       "                                                       n_iter_no_change=50),\n",
       "                   n_iter=20, n_jobs=-1,\n",
       "                   param_distributions={'learning_rate': array([0.12652715, 0.17126432, 0.28409987, 0.19261255, 0.13616174,\n",
       "       0.04712748, 0.13845162, 0.24221554, 0.16470809, 0.11750039,\n",
       "       0.08705409, 0.03115891, 0.24943557, 0.14114388, 0.18579998,\n",
       "       0.1130818 , 0.23182972, 0.2355...\n",
       "       0.04025063, 0.20826669, 0.04739743, 0.22562264, 0.07201508,\n",
       "       0.10373111, 0.05304147, 0.30933889, 0.16514244, 0.0273647 ,\n",
       "       0.07967363, 0.18852721, 0.10424001, 0.08316952, 0.17231859,\n",
       "       0.27513089, 0.05279629, 0.04324343, 0.21043201, 0.25354874,\n",
       "       0.16925605, 0.10637304, 0.22572541, 0.08515565, 0.28535462,\n",
       "       0.28413951, 0.14959235, 0.22867317, 0.10140642, 0.1598874 ,\n",
       "       0.15609451, 0.10123351, 0.21501148, 0.28831989, 0.21125468])})"
      ]
     },
     "execution_count": 314,
     "metadata": {},
     "output_type": "execute_result"
    }
   ],
   "source": [
    "# make predictor grid\n",
    "finder_param_grid = dict(learning_rate = uniform.rvs(size = 100, scale = 0.31, loc = 0.01))\n",
    "\n",
    "# test parameters for optimal values\n",
    "random_search_finder = RandomizedSearchCV(tree_finder, \n",
    "                                   finder_param_grid,\n",
    "                                   n_iter = 20,\n",
    "                                   n_jobs = -1\n",
    "                                  )\n",
    "\n",
    "# fit on best values\n",
    "random_search_finder.fit(x_train, y_train)"
   ]
  },
  {
   "cell_type": "code",
   "execution_count": 315,
   "id": "62f69fee-ecf0-4ac2-b086-695f65728e56",
   "metadata": {
    "tags": []
   },
   "outputs": [
    {
     "name": "stdout",
     "output_type": "stream",
     "text": [
      "Best learning rate: 0.04262146566541838\n"
     ]
    }
   ],
   "source": [
    "print(f\"Best learning rate: {random_search_finder.best_params_['learning_rate']}\")"
   ]
  },
  {
   "cell_type": "markdown",
   "id": "a901dc3a-08f4-41d6-ad5f-f8b46cdefffd",
   "metadata": {},
   "source": [
    "## Step 3: tune tree specific parameters"
   ]
  },
  {
   "cell_type": "code",
   "execution_count": 320,
   "id": "d7b8f64a-cd71-4b45-8003-0e0a2284a4d0",
   "metadata": {
    "tags": []
   },
   "outputs": [
    {
     "data": {
      "text/html": [
       "<style>#sk-container-id-7 {color: black;}#sk-container-id-7 pre{padding: 0;}#sk-container-id-7 div.sk-toggleable {background-color: white;}#sk-container-id-7 label.sk-toggleable__label {cursor: pointer;display: block;width: 100%;margin-bottom: 0;padding: 0.3em;box-sizing: border-box;text-align: center;}#sk-container-id-7 label.sk-toggleable__label-arrow:before {content: \"▸\";float: left;margin-right: 0.25em;color: #696969;}#sk-container-id-7 label.sk-toggleable__label-arrow:hover:before {color: black;}#sk-container-id-7 div.sk-estimator:hover label.sk-toggleable__label-arrow:before {color: black;}#sk-container-id-7 div.sk-toggleable__content {max-height: 0;max-width: 0;overflow: hidden;text-align: left;background-color: #f0f8ff;}#sk-container-id-7 div.sk-toggleable__content pre {margin: 0.2em;color: black;border-radius: 0.25em;background-color: #f0f8ff;}#sk-container-id-7 input.sk-toggleable__control:checked~div.sk-toggleable__content {max-height: 200px;max-width: 100%;overflow: auto;}#sk-container-id-7 input.sk-toggleable__control:checked~label.sk-toggleable__label-arrow:before {content: \"▾\";}#sk-container-id-7 div.sk-estimator input.sk-toggleable__control:checked~label.sk-toggleable__label {background-color: #d4ebff;}#sk-container-id-7 div.sk-label input.sk-toggleable__control:checked~label.sk-toggleable__label {background-color: #d4ebff;}#sk-container-id-7 input.sk-hidden--visually {border: 0;clip: rect(1px 1px 1px 1px);clip: rect(1px, 1px, 1px, 1px);height: 1px;margin: -1px;overflow: hidden;padding: 0;position: absolute;width: 1px;}#sk-container-id-7 div.sk-estimator {font-family: monospace;background-color: #f0f8ff;border: 1px dotted black;border-radius: 0.25em;box-sizing: border-box;margin-bottom: 0.5em;}#sk-container-id-7 div.sk-estimator:hover {background-color: #d4ebff;}#sk-container-id-7 div.sk-parallel-item::after {content: \"\";width: 100%;border-bottom: 1px solid gray;flex-grow: 1;}#sk-container-id-7 div.sk-label:hover label.sk-toggleable__label {background-color: #d4ebff;}#sk-container-id-7 div.sk-serial::before {content: \"\";position: absolute;border-left: 1px solid gray;box-sizing: border-box;top: 0;bottom: 0;left: 50%;z-index: 0;}#sk-container-id-7 div.sk-serial {display: flex;flex-direction: column;align-items: center;background-color: white;padding-right: 0.2em;padding-left: 0.2em;position: relative;}#sk-container-id-7 div.sk-item {position: relative;z-index: 1;}#sk-container-id-7 div.sk-parallel {display: flex;align-items: stretch;justify-content: center;background-color: white;position: relative;}#sk-container-id-7 div.sk-item::before, #sk-container-id-7 div.sk-parallel-item::before {content: \"\";position: absolute;border-left: 1px solid gray;box-sizing: border-box;top: 0;bottom: 0;left: 50%;z-index: -1;}#sk-container-id-7 div.sk-parallel-item {display: flex;flex-direction: column;z-index: 1;position: relative;background-color: white;}#sk-container-id-7 div.sk-parallel-item:first-child::after {align-self: flex-end;width: 50%;}#sk-container-id-7 div.sk-parallel-item:last-child::after {align-self: flex-start;width: 50%;}#sk-container-id-7 div.sk-parallel-item:only-child::after {width: 0;}#sk-container-id-7 div.sk-dashed-wrapped {border: 1px dashed gray;margin: 0 0.4em 0.5em 0.4em;box-sizing: border-box;padding-bottom: 0.4em;background-color: white;}#sk-container-id-7 div.sk-label label {font-family: monospace;font-weight: bold;display: inline-block;line-height: 1.2em;}#sk-container-id-7 div.sk-label-container {text-align: center;}#sk-container-id-7 div.sk-container {/* jupyter's `normalize.less` sets `[hidden] { display: none; }` but bootstrap.min.css set `[hidden] { display: none !important; }` so we also need the `!important` here to be able to override the default hidden behavior on the sphinx rendered scikit-learn.org. See: https://github.com/scikit-learn/scikit-learn/issues/21755 */display: inline-block !important;position: relative;}#sk-container-id-7 div.sk-text-repr-fallback {display: none;}</style><div id=\"sk-container-id-7\" class=\"sk-top-container\"><div class=\"sk-text-repr-fallback\"><pre>GradientBoostingRegressor(learning_rate=0.04262146566541838, n_estimators=155,\n",
       "                          n_iter_no_change=50)</pre><b>In a Jupyter environment, please rerun this cell to show the HTML representation or trust the notebook. <br />On GitHub, the HTML representation is unable to render, please try loading this page with nbviewer.org.</b></div><div class=\"sk-container\" hidden><div class=\"sk-item\"><div class=\"sk-estimator sk-toggleable\"><input class=\"sk-toggleable__control sk-hidden--visually\" id=\"sk-estimator-id-13\" type=\"checkbox\" checked><label for=\"sk-estimator-id-13\" class=\"sk-toggleable__label sk-toggleable__label-arrow\">GradientBoostingRegressor</label><div class=\"sk-toggleable__content\"><pre>GradientBoostingRegressor(learning_rate=0.04262146566541838, n_estimators=155,\n",
       "                          n_iter_no_change=50)</pre></div></div></div></div></div>"
      ],
      "text/plain": [
       "GradientBoostingRegressor(learning_rate=0.04262146566541838, n_estimators=155,\n",
       "                          n_iter_no_change=50)"
      ]
     },
     "execution_count": 320,
     "metadata": {},
     "output_type": "execute_result"
    }
   ],
   "source": [
    "# remake boosted model with optimal values\n",
    "tree_climber = (GradientBoostingRegressor(n_estimators = tree_finder.n_estimators_, \n",
    "                                          learning_rate = random_search_finder.best_params_['learning_rate'],  \n",
    "                                          n_iter_no_change = 50)\n",
    "               )\n",
    "                \n",
    "tree_climber.fit(x_train, y_train)"
   ]
  },
  {
   "cell_type": "code",
   "execution_count": 325,
   "id": "eac52cce-0695-406f-b5f2-cccda6f60c19",
   "metadata": {
    "tags": []
   },
   "outputs": [
    {
     "data": {
      "text/html": [
       "<style>#sk-container-id-8 {color: black;}#sk-container-id-8 pre{padding: 0;}#sk-container-id-8 div.sk-toggleable {background-color: white;}#sk-container-id-8 label.sk-toggleable__label {cursor: pointer;display: block;width: 100%;margin-bottom: 0;padding: 0.3em;box-sizing: border-box;text-align: center;}#sk-container-id-8 label.sk-toggleable__label-arrow:before {content: \"▸\";float: left;margin-right: 0.25em;color: #696969;}#sk-container-id-8 label.sk-toggleable__label-arrow:hover:before {color: black;}#sk-container-id-8 div.sk-estimator:hover label.sk-toggleable__label-arrow:before {color: black;}#sk-container-id-8 div.sk-toggleable__content {max-height: 0;max-width: 0;overflow: hidden;text-align: left;background-color: #f0f8ff;}#sk-container-id-8 div.sk-toggleable__content pre {margin: 0.2em;color: black;border-radius: 0.25em;background-color: #f0f8ff;}#sk-container-id-8 input.sk-toggleable__control:checked~div.sk-toggleable__content {max-height: 200px;max-width: 100%;overflow: auto;}#sk-container-id-8 input.sk-toggleable__control:checked~label.sk-toggleable__label-arrow:before {content: \"▾\";}#sk-container-id-8 div.sk-estimator input.sk-toggleable__control:checked~label.sk-toggleable__label {background-color: #d4ebff;}#sk-container-id-8 div.sk-label input.sk-toggleable__control:checked~label.sk-toggleable__label {background-color: #d4ebff;}#sk-container-id-8 input.sk-hidden--visually {border: 0;clip: rect(1px 1px 1px 1px);clip: rect(1px, 1px, 1px, 1px);height: 1px;margin: -1px;overflow: hidden;padding: 0;position: absolute;width: 1px;}#sk-container-id-8 div.sk-estimator {font-family: monospace;background-color: #f0f8ff;border: 1px dotted black;border-radius: 0.25em;box-sizing: border-box;margin-bottom: 0.5em;}#sk-container-id-8 div.sk-estimator:hover {background-color: #d4ebff;}#sk-container-id-8 div.sk-parallel-item::after {content: \"\";width: 100%;border-bottom: 1px solid gray;flex-grow: 1;}#sk-container-id-8 div.sk-label:hover label.sk-toggleable__label {background-color: #d4ebff;}#sk-container-id-8 div.sk-serial::before {content: \"\";position: absolute;border-left: 1px solid gray;box-sizing: border-box;top: 0;bottom: 0;left: 50%;z-index: 0;}#sk-container-id-8 div.sk-serial {display: flex;flex-direction: column;align-items: center;background-color: white;padding-right: 0.2em;padding-left: 0.2em;position: relative;}#sk-container-id-8 div.sk-item {position: relative;z-index: 1;}#sk-container-id-8 div.sk-parallel {display: flex;align-items: stretch;justify-content: center;background-color: white;position: relative;}#sk-container-id-8 div.sk-item::before, #sk-container-id-8 div.sk-parallel-item::before {content: \"\";position: absolute;border-left: 1px solid gray;box-sizing: border-box;top: 0;bottom: 0;left: 50%;z-index: -1;}#sk-container-id-8 div.sk-parallel-item {display: flex;flex-direction: column;z-index: 1;position: relative;background-color: white;}#sk-container-id-8 div.sk-parallel-item:first-child::after {align-self: flex-end;width: 50%;}#sk-container-id-8 div.sk-parallel-item:last-child::after {align-self: flex-start;width: 50%;}#sk-container-id-8 div.sk-parallel-item:only-child::after {width: 0;}#sk-container-id-8 div.sk-dashed-wrapped {border: 1px dashed gray;margin: 0 0.4em 0.5em 0.4em;box-sizing: border-box;padding-bottom: 0.4em;background-color: white;}#sk-container-id-8 div.sk-label label {font-family: monospace;font-weight: bold;display: inline-block;line-height: 1.2em;}#sk-container-id-8 div.sk-label-container {text-align: center;}#sk-container-id-8 div.sk-container {/* jupyter's `normalize.less` sets `[hidden] { display: none; }` but bootstrap.min.css set `[hidden] { display: none !important; }` so we also need the `!important` here to be able to override the default hidden behavior on the sphinx rendered scikit-learn.org. See: https://github.com/scikit-learn/scikit-learn/issues/21755 */display: inline-block !important;position: relative;}#sk-container-id-8 div.sk-text-repr-fallback {display: none;}</style><div id=\"sk-container-id-8\" class=\"sk-top-container\"><div class=\"sk-text-repr-fallback\"><pre>RandomizedSearchCV(estimator=GradientBoostingRegressor(learning_rate=0.04262146566541838,\n",
       "                                                       n_estimators=155,\n",
       "                                                       n_iter_no_change=50),\n",
       "                   n_iter=50, n_jobs=-1,\n",
       "                   param_distributions={&#x27;max_depth&#x27;: array([ 3,  4,  5,  6,  7,  8,  9, 10]),\n",
       "                                        &#x27;min_impurity_decrease&#x27;: array([0.17023461, 0.11983237, 0.01810632, 0.14751026, 0.21005976,\n",
       "       0.18797963, 0.22655463, 0.34671759, 0.45374155, 0.29698503,\n",
       "       0.2...\n",
       "       0.23254631, 0.16870655, 0.14665635, 0.41722425, 0.0956964 ,\n",
       "       0.34677671, 0.43044122, 0.04755264, 0.42815615, 0.16521641,\n",
       "       0.30832946, 0.19191713, 0.1714984 , 0.29371624, 0.31815352,\n",
       "       0.45335219, 0.16381989, 0.12923685, 0.30904249, 0.37014535,\n",
       "       0.31198575, 0.15164433, 0.29838867, 0.25191075, 0.1694054 ,\n",
       "       0.1475041 , 0.01928644, 0.21477444, 0.43058359, 0.19833546]),\n",
       "                                        &#x27;min_samples_leaf&#x27;: array([ 1,  2,  3,  4,  5,  6,  7,  8,  9, 10])})</pre><b>In a Jupyter environment, please rerun this cell to show the HTML representation or trust the notebook. <br />On GitHub, the HTML representation is unable to render, please try loading this page with nbviewer.org.</b></div><div class=\"sk-container\" hidden><div class=\"sk-item sk-dashed-wrapped\"><div class=\"sk-label-container\"><div class=\"sk-label sk-toggleable\"><input class=\"sk-toggleable__control sk-hidden--visually\" id=\"sk-estimator-id-14\" type=\"checkbox\" ><label for=\"sk-estimator-id-14\" class=\"sk-toggleable__label sk-toggleable__label-arrow\">RandomizedSearchCV</label><div class=\"sk-toggleable__content\"><pre>RandomizedSearchCV(estimator=GradientBoostingRegressor(learning_rate=0.04262146566541838,\n",
       "                                                       n_estimators=155,\n",
       "                                                       n_iter_no_change=50),\n",
       "                   n_iter=50, n_jobs=-1,\n",
       "                   param_distributions={&#x27;max_depth&#x27;: array([ 3,  4,  5,  6,  7,  8,  9, 10]),\n",
       "                                        &#x27;min_impurity_decrease&#x27;: array([0.17023461, 0.11983237, 0.01810632, 0.14751026, 0.21005976,\n",
       "       0.18797963, 0.22655463, 0.34671759, 0.45374155, 0.29698503,\n",
       "       0.2...\n",
       "       0.23254631, 0.16870655, 0.14665635, 0.41722425, 0.0956964 ,\n",
       "       0.34677671, 0.43044122, 0.04755264, 0.42815615, 0.16521641,\n",
       "       0.30832946, 0.19191713, 0.1714984 , 0.29371624, 0.31815352,\n",
       "       0.45335219, 0.16381989, 0.12923685, 0.30904249, 0.37014535,\n",
       "       0.31198575, 0.15164433, 0.29838867, 0.25191075, 0.1694054 ,\n",
       "       0.1475041 , 0.01928644, 0.21477444, 0.43058359, 0.19833546]),\n",
       "                                        &#x27;min_samples_leaf&#x27;: array([ 1,  2,  3,  4,  5,  6,  7,  8,  9, 10])})</pre></div></div></div><div class=\"sk-parallel\"><div class=\"sk-parallel-item\"><div class=\"sk-item\"><div class=\"sk-label-container\"><div class=\"sk-label sk-toggleable\"><input class=\"sk-toggleable__control sk-hidden--visually\" id=\"sk-estimator-id-15\" type=\"checkbox\" ><label for=\"sk-estimator-id-15\" class=\"sk-toggleable__label sk-toggleable__label-arrow\">estimator: GradientBoostingRegressor</label><div class=\"sk-toggleable__content\"><pre>GradientBoostingRegressor(learning_rate=0.04262146566541838, n_estimators=155,\n",
       "                          n_iter_no_change=50)</pre></div></div></div><div class=\"sk-serial\"><div class=\"sk-item\"><div class=\"sk-estimator sk-toggleable\"><input class=\"sk-toggleable__control sk-hidden--visually\" id=\"sk-estimator-id-16\" type=\"checkbox\" ><label for=\"sk-estimator-id-16\" class=\"sk-toggleable__label sk-toggleable__label-arrow\">GradientBoostingRegressor</label><div class=\"sk-toggleable__content\"><pre>GradientBoostingRegressor(learning_rate=0.04262146566541838, n_estimators=155,\n",
       "                          n_iter_no_change=50)</pre></div></div></div></div></div></div></div></div></div></div>"
      ],
      "text/plain": [
       "RandomizedSearchCV(estimator=GradientBoostingRegressor(learning_rate=0.04262146566541838,\n",
       "                                                       n_estimators=155,\n",
       "                                                       n_iter_no_change=50),\n",
       "                   n_iter=50, n_jobs=-1,\n",
       "                   param_distributions={'max_depth': array([ 3,  4,  5,  6,  7,  8,  9, 10]),\n",
       "                                        'min_impurity_decrease': array([0.17023461, 0.11983237, 0.01810632, 0.14751026, 0.21005976,\n",
       "       0.18797963, 0.22655463, 0.34671759, 0.45374155, 0.29698503,\n",
       "       0.2...\n",
       "       0.23254631, 0.16870655, 0.14665635, 0.41722425, 0.0956964 ,\n",
       "       0.34677671, 0.43044122, 0.04755264, 0.42815615, 0.16521641,\n",
       "       0.30832946, 0.19191713, 0.1714984 , 0.29371624, 0.31815352,\n",
       "       0.45335219, 0.16381989, 0.12923685, 0.30904249, 0.37014535,\n",
       "       0.31198575, 0.15164433, 0.29838867, 0.25191075, 0.1694054 ,\n",
       "       0.1475041 , 0.01928644, 0.21477444, 0.43058359, 0.19833546]),\n",
       "                                        'min_samples_leaf': array([ 1,  2,  3,  4,  5,  6,  7,  8,  9, 10])})"
      ]
     },
     "execution_count": 325,
     "metadata": {},
     "output_type": "execute_result"
    }
   ],
   "source": [
    "# make new grid for new parameters\n",
    "tree_param_grid = dict(max_depth = np.arange(3, 11), \n",
    "                       min_samples_leaf = np.arange(1, 11), \n",
    "                       min_impurity_decrease = uniform.rvs(size = 100, loc = 0, scale = 0.5)\n",
    "                      )\n",
    "\n",
    "# test new parameters for optimal values\n",
    "random_search_climber = RandomizedSearchCV(tree_climber, \n",
    "                                            tree_param_grid,\n",
    "                                            n_iter = 50,\n",
    "                                            n_jobs = -1\n",
    "                                  )\n",
    "\n",
    "# fit on best values\n",
    "random_search_climber.fit(x_train, y_train)"
   ]
  },
  {
   "cell_type": "code",
   "execution_count": 327,
   "id": "96d1205f-02bc-4307-a9fb-c173f300689d",
   "metadata": {
    "tags": []
   },
   "outputs": [
    {
     "name": "stdout",
     "output_type": "stream",
     "text": [
      "Optimal minimum number of samples needed to split: 10\n",
      "Optimal naximum tree depth: 5\n",
      "Optimal loss reduction value: 0.16200339285238158\n"
     ]
    }
   ],
   "source": [
    "print(f\"Optimal minimum number of samples needed to split: {random_search_climber.best_params_['min_samples_leaf']}\")\n",
    "print(f\"Optimal naximum tree depth: {random_search_climber.best_params_['max_depth']}\")\n",
    "print(f\"Optimal loss reduction value: {random_search_climber.best_params_['min_impurity_decrease']}\")"
   ]
  },
  {
   "cell_type": "code",
   "execution_count": 332,
   "id": "1cb6ac3c-f34d-4e4f-8c84-049e206c0b1e",
   "metadata": {
    "tags": []
   },
   "outputs": [],
   "source": [
    "# time at start of cv\n",
    "time_before_boost = time.time()\n",
    "\n",
    "# remake boosted model with additional values\n",
    "tree_overlooker = GradientBoostingRegressor(**{**random_search_finder.best_params_, **random_search_climber.best_params_}, \n",
    "                                             n_iter_no_change = 50)\n",
    "                   \n",
    "tree_overlooker.fit(x_train, y_train)\n",
    "\n",
    "# make param grid\n",
    "overlooker_param_grid = dict(max_depth = np.arange(3, 11), \n",
    "                             min_samples_leaf = np.arange(1, 11), \n",
    "                             min_impurity_decrease = uniform.rvs(size = 100, loc = 0, scale = 0.5)\n",
    "                            )\n",
    "\n",
    "# init kfold\n",
    "cv = KFold(n_splits=5, shuffle=True)\n",
    "\n",
    "\n",
    "# find best boost params\n",
    "best_boost = RandomizedSearchCV(\n",
    "    estimator = tree_overlooker,\n",
    "    param_grid = overlooker_param_grid,\n",
    "    scoring='neg_root_mean_squared_error', \n",
    "    n_iter = 50\n",
    "    cv=cv,\n",
    "    n_jobs=-1, \n",
    "    verbose = 0\n",
    ")\n",
    "\n",
    "# Fit the model\n",
    "best_boost.fit(x_train, y_train)\n",
    "\n",
    "# time after cv runs\n",
    "time_after_boost = time.time()\n",
    "\n",
    "# get computation time of cv function\n",
    "total_time_boost = time_after_boost - time_before_boost"
   ]
  },
  {
   "cell_type": "code",
   "execution_count": 333,
   "id": "cec3264a-cb11-4edc-9b5d-391daff9e755",
   "metadata": {
    "tags": []
   },
   "outputs": [
    {
     "name": "stdout",
     "output_type": "stream",
     "text": [
      "Total RF computation time: 18 minutes, 46.24 seconds\n"
     ]
    }
   ],
   "source": [
    "# get total time\n",
    "print(f\"Total RF computation time: {round(total_time_boost/60)} minutes, {round(total_time_boost%60, 2)} seconds\")"
   ]
  },
  {
   "cell_type": "code",
   "execution_count": 334,
   "id": "324dec9b-5471-45f8-aaa3-5d79376d5da4",
   "metadata": {
    "tags": []
   },
   "outputs": [
    {
     "data": {
      "text/plain": [
       "{'max_depth': 6,\n",
       " 'min_impurity_decrease': 0.0891938717568318,\n",
       " 'min_samples_leaf': 7}"
      ]
     },
     "execution_count": 334,
     "metadata": {},
     "output_type": "execute_result"
    }
   ],
   "source": [
    "best_boost.best_params_"
   ]
  },
  {
   "cell_type": "code",
   "execution_count": 335,
   "id": "60d26403-6a2e-442a-a5c2-607bac2cd32b",
   "metadata": {
    "tags": []
   },
   "outputs": [
    {
     "data": {
      "text/plain": [
       "-5.973601662787823"
      ]
     },
     "execution_count": 335,
     "metadata": {},
     "output_type": "execute_result"
    }
   ],
   "source": [
    "best_boost.best_score_"
   ]
  },
  {
   "cell_type": "code",
   "execution_count": 282,
   "id": "9147bf39-31bd-4957-9c21-ad3fcb4adf1a",
   "metadata": {
    "tags": []
   },
   "outputs": [
    {
     "data": {
      "text/plain": [
       "418.9500000000003"
      ]
     },
     "execution_count": 282,
     "metadata": {},
     "output_type": "execute_result"
    }
   ],
   "source": [
    "train_df_clean['DIC'].max() - train_df_clean['DIC'].min()"
   ]
  },
  {
   "cell_type": "code",
   "execution_count": 1,
   "id": "7e6b17a3-dfb8-4c3a-afbe-dc5552193121",
   "metadata": {
    "tags": []
   },
   "outputs": [
    {
     "ename": "NameError",
     "evalue": "name 'RandomizedSearchCV' is not defined",
     "output_type": "error",
     "traceback": [
      "\u001b[0;31m---------------------------------------------------------------------------\u001b[0m",
      "\u001b[0;31mNameError\u001b[0m                                 Traceback (most recent call last)",
      "Cell \u001b[0;32mIn[1], line 1\u001b[0m\n\u001b[0;32m----> 1\u001b[0m help(\u001b[43mRandomizedSearchCV\u001b[49m)\n",
      "\u001b[0;31mNameError\u001b[0m: name 'RandomizedSearchCV' is not defined"
     ]
    }
   ],
   "source": [
    "help(RandomizedSearchCV)"
   ]
  },
  {
   "cell_type": "code",
   "execution_count": null,
   "id": "d775eab2-1c5b-4c0d-b578-ea1393194bf7",
   "metadata": {},
   "outputs": [],
   "source": []
  }
 ],
 "metadata": {
  "kernelspec": {
   "display_name": "Anaconda 3 (EDS232)",
   "language": "python",
   "name": "ml-env"
  },
  "language_info": {
   "codemirror_mode": {
    "name": "ipython",
    "version": 3
   },
   "file_extension": ".py",
   "mimetype": "text/x-python",
   "name": "python",
   "nbconvert_exporter": "python",
   "pygments_lexer": "ipython3",
   "version": "3.10.16"
  }
 },
 "nbformat": 4,
 "nbformat_minor": 5
}
