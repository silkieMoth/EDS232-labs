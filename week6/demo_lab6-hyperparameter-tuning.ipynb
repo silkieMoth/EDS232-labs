{
 "cells": [
  {
   "cell_type": "code",
   "execution_count": 1,
   "id": "ce384162",
   "metadata": {
    "tags": []
   },
   "outputs": [],
   "source": [
    "import mglearn\n",
    "import pandas as pd\n",
    "from sklearn.model_selection import train_test_split, GridSearchCV\n",
    "from sklearn.ensemble import RandomForestClassifier\n",
    "import numpy as np\n",
    "import seaborn as sns\n",
    "import matplotlib.pyplot as plt"
   ]
  },
  {
   "cell_type": "code",
   "execution_count": 2,
   "id": "6acea156",
   "metadata": {
    "scrolled": true,
    "tags": []
   },
   "outputs": [
    {
     "data": {
      "text/plain": [
       "<module 'mglearn.plots' from '/opt/anaconda3/envs/ml-env/lib/python3.10/site-packages/mglearn/plots.py'>"
      ]
     },
     "execution_count": 2,
     "metadata": {},
     "output_type": "execute_result"
    }
   ],
   "source": [
    "mglearn.plots"
   ]
  },
  {
   "cell_type": "code",
   "execution_count": 3,
   "id": "1303de63",
   "metadata": {
    "tags": []
   },
   "outputs": [],
   "source": [
    "dat = pd.read_csv(\"/courses/EDS232/Data/demo-spotify.csv\")"
   ]
  },
  {
   "cell_type": "markdown",
   "id": "5ec92506",
   "metadata": {},
   "source": [
    "For GridSearchCV we need an instantiated model and parameter grid\n",
    "\n",
    "The method considers product of the sets and evaluates each combination one by one.\n",
    "\n",
    "The standard preparation:"
   ]
  },
  {
   "cell_type": "code",
   "execution_count": 4,
   "id": "ad6946c7",
   "metadata": {
    "tags": []
   },
   "outputs": [],
   "source": [
    "# Define features and target\n",
    "X = dat.drop(columns=['genre'])\n",
    "y = dat['genre']\n",
    "\n",
    "# Check for non-numeric columns\n",
    "non_numeric_cols = X.select_dtypes(include=['object']).columns\n",
    "\n",
    "# Drop non-numeric columns\n",
    "X = X.drop(columns=non_numeric_cols)\n",
    "\n",
    "# Train-test split\n",
    "X_train, X_test, y_train, y_test = train_test_split(X, y, test_size=0.3, random_state=808)\n",
    "\n",
    "rf = RandomForestClassifier()"
   ]
  },
  {
   "cell_type": "markdown",
   "id": "69516c42-d0d3-40e1-9574-84d451e50978",
   "metadata": {
    "tags": []
   },
   "source": [
    "Now we will construct our parameter grid"
   ]
  },
  {
   "cell_type": "code",
   "execution_count": 5,
   "id": "23bc0b0c",
   "metadata": {
    "tags": []
   },
   "outputs": [],
   "source": [
    "param_grid = { # this allows us to test different values for the params\n",
    "    \"n_estimators\": [10, 50, 100, 200],  # num estimators = num trees\n",
    "    \"max_depth\": [5, 10, 20, None], \n",
    "    \"max_features\": [\"sqrt\", 9, None], \n",
    "    \n",
    "}\n",
    "\n",
    "gs = GridSearchCV(rf, param_grid = param_grid, n_jobs = -1, return_train_score = True)"
   ]
  },
  {
   "cell_type": "markdown",
   "id": "e107d031",
   "metadata": {},
   "source": [
    "The GridSearchCV object above behaves like a classifier. We can call fit, predict or score on it."
   ]
  },
  {
   "cell_type": "code",
   "execution_count": null,
   "id": "d49846b2",
   "metadata": {
    "tags": []
   },
   "outputs": [],
   "source": [
    "# Carry out the search \n",
    "\n",
    "gs.fit(X_train, y_train)"
   ]
  },
  {
   "cell_type": "code",
   "execution_count": null,
   "id": "305e0840",
   "metadata": {
    "tags": []
   },
   "outputs": [],
   "source": [
    "# Get the best hyperparameter values\n",
    "\n",
    "gs.best_params_"
   ]
  },
  {
   "cell_type": "markdown",
   "id": "f4325bb1",
   "metadata": {},
   "source": [
    "It is often helpful to visualize results of all cross-validation experiments.\n",
    "You can access this information using cv_results_ attribute of a fitted GridSearchCV object."
   ]
  },
  {
   "cell_type": "code",
   "execution_count": null,
   "id": "fc96c04d",
   "metadata": {
    "scrolled": true,
    "tags": []
   },
   "outputs": [],
   "source": [
    "results = pd.DataFrame(gs.cv_results_)\n",
    "results"
   ]
  },
  {
   "cell_type": "markdown",
   "id": "6dfc7b61",
   "metadata": {},
   "source": [
    "Let's look at only the most relevant rows"
   ]
  },
  {
   "cell_type": "code",
   "execution_count": null,
   "id": "b5b247ce",
   "metadata": {},
   "outputs": [],
   "source": [
    "# Select relevant columns\n",
    "filtered_results = pd.DataFrame(gs.cv_results_)[\n",
    "    [\n",
    "        \"mean_test_score\",\n",
    "        \"param_n_estimators\",   # Number of trees\n",
    "        \"param_max_depth\",      # Max depth of trees\n",
    "        \"param_max_features\",   # Feature selection per split\n",
    "        \"mean_fit_time\",        # Time taken to fit the model\n",
    "        \"rank_test_score\",      # Rank of the best score\n",
    "    ]\n",
    "].set_index(\"rank_test_score\").sort_index().T"
   ]
  },
  {
   "cell_type": "markdown",
   "id": "58f03abb",
   "metadata": {},
   "source": [
    "Other than searching for best hyperparameter values, GridSearchCV also fits a new model on the whole training set with the parameters that yielded the best results.\n",
    "So we can conveniently call score on the test set with a fitted GridSearchCV object."
   ]
  },
  {
   "cell_type": "code",
   "execution_count": null,
   "id": "9ebcf532",
   "metadata": {},
   "outputs": [],
   "source": [
    "# Best score\n",
    "\n",
    "# Get the test scores \n"
   ]
  },
  {
   "cell_type": "markdown",
   "id": "2fd4b852",
   "metadata": {},
   "source": [
    "Why are best_score_ and the score above different?\n",
    "\n"
   ]
  },
  {
   "cell_type": "markdown",
   "id": "8f1f2c4a",
   "metadata": {},
   "source": [
    "Visualizing parameters as heat "
   ]
  },
  {
   "cell_type": "code",
   "execution_count": null,
   "id": "ba821b7d",
   "metadata": {},
   "outputs": [],
   "source": [
    "def display_heatmap(param_grid, model, X_train, y_train):\n",
    "   \n",
    "    grid_search = GridSearchCV(\n",
    "        model, param_grid, cv=5, n_jobs=-1, return_train_score=True, scoring=\"accuracy\"\n",
    "    )\n",
    "    \n",
    "    # Fit the model\n",
    "    grid_search.fit(X_train, y_train)\n",
    "    \n",
    "    # Convert results to DataFrame\n",
    "    results = pd.DataFrame(grid_search.cv_results_)\n",
    "\n",
    "    # Extract parameter names dynamically\n",
    "    param_x, param_y = list(param_grid.keys())\n",
    "\n",
    "    # Reshape test scores into a 2D array for heatmap\n",
    "    scores = results.pivot(index=f\"param_{param_y}\", columns=f\"param_{param_x}\", values=\"mean_test_score\")\n",
    "\n",
    "    # Plot the heatmap\n",
    "    plt.figure(figsize=(10, 6))\n",
    "    sns.heatmap(scores, annot=True, fmt=\".3f\", cmap=\"coolwarm\")\n",
    "    plt.xlabel(param_x)\n",
    "    plt.ylabel(param_y)\n",
    "    plt.title(f\"Grid Search Heatmap ({param_x} vs. {param_y})\")\n",
    "    plt.show()\n",
    "\n",
    "# Define the hyperparameter grid for max_depth vs. n_estimators\n",
    "param_grid1 = {\n",
    "    \"max_depth\": \n",
    "    \"n_estimators\": \n",
    "}\n",
    "\n",
    "\n",
    "# Call the function\n",
    "display_heatmap(param_grid1, rf, X_train, y_train)"
   ]
  },
  {
   "cell_type": "markdown",
   "id": "9bf517c4",
   "metadata": {},
   "source": [
    "A key problem with exhaustive grid search is the required number of models to evaluate grows exponentially with the dimensionally of the configuration space.\n",
    "\n",
    "For future discussion:\n",
    "sklearn.model_selection.RandomizedSearchCV\n",
    "Samples configurations at random until certain budget (e.g., time) is exhausted."
   ]
  }
 ],
 "metadata": {
  "kernelspec": {
   "display_name": "Anaconda 3 (EDS232)",
   "language": "python",
   "name": "ml-env"
  },
  "language_info": {
   "codemirror_mode": {
    "name": "ipython",
    "version": 3
   },
   "file_extension": ".py",
   "mimetype": "text/x-python",
   "name": "python",
   "nbconvert_exporter": "python",
   "pygments_lexer": "ipython3",
   "version": "3.10.16"
  }
 },
 "nbformat": 4,
 "nbformat_minor": 5
}
